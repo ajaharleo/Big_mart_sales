{
 "cells": [
  {
   "cell_type": "code",
   "execution_count": 1,
   "metadata": {},
   "outputs": [
    {
     "data": {
      "text/plain": [
       "'d:\\\\iNeuron\\\\ML_projects\\\\Big_mart_sales\\\\research'"
      ]
     },
     "execution_count": 1,
     "metadata": {},
     "output_type": "execute_result"
    }
   ],
   "source": [
    "import os\n",
    "os.getcwd()"
   ]
  },
  {
   "cell_type": "code",
   "execution_count": 2,
   "metadata": {},
   "outputs": [
    {
     "data": {
      "text/plain": [
       "'d:\\\\iNeuron\\\\ML_projects\\\\Big_mart_sales'"
      ]
     },
     "execution_count": 2,
     "metadata": {},
     "output_type": "execute_result"
    }
   ],
   "source": [
    "os.chdir('../')\n",
    "os.getcwd()"
   ]
  },
  {
   "cell_type": "code",
   "execution_count": 3,
   "metadata": {},
   "outputs": [],
   "source": [
    "import os,sys\n",
    "from BigMartSales import logger\n",
    "from BigMartSales.constants import *\n",
    "from BigMartSales.entity import DataIngestionConfig\n",
    "from BigMartSales.entity import DataIngestionArtifact\n",
    "import requests\n",
    "import zipfile\n",
    "import shutil\n",
    "import pandas as pd \n",
    "from pathlib import Path\n",
    "from sklearn.model_selection import train_test_split"
   ]
  },
  {
   "cell_type": "code",
   "execution_count": 4,
   "metadata": {},
   "outputs": [],
   "source": [
    "current_time = CURRENT_TIME_STAMP\n",
    "config_file = Path(r'configs/config.yaml')"
   ]
  },
  {
   "cell_type": "code",
   "execution_count": 5,
   "metadata": {},
   "outputs": [],
   "source": [
    "from BigMartSales.config import Configuration"
   ]
  },
  {
   "cell_type": "code",
   "execution_count": 6,
   "metadata": {},
   "outputs": [
    {
     "name": "stdout",
     "output_type": "stream",
     "text": [
      "[2022-11-18 16:00:03,929]^;INFO^;26^;common.py^;read_yaml()^;yaml file: configs\\config.yaml loaded successfully\n",
      "[2022-11-18 16:00:03,937]^;INFO^;76^;__init__.py^;get_training_pipeline_config()^;Training pipleine config: TrainingPipelineConfig(artifact_dir='d:\\\\iNeuron\\\\ML_projects\\\\Big_mart_sales\\\\sales\\\\artifact')\n"
     ]
    }
   ],
   "source": [
    "confi = Configuration(config_file_path=config_file,current_time_stamp=current_time)"
   ]
  },
  {
   "cell_type": "code",
   "execution_count": 7,
   "metadata": {},
   "outputs": [
    {
     "name": "stdout",
     "output_type": "stream",
     "text": [
      "[2022-11-18 16:00:33,937]^;INFO^;60^;__init__.py^;get_data_ingestion_config()^;DataIngestionConfig: DataIngestionConfig(dataset_download_url='https://github.com/ajaharleo/kaggle_datasets/blob/main/Big_mart_sales.zip?raw=true', zip_download_dir='d:\\\\iNeuron\\\\ML_projects\\\\Big_mart_sales\\\\sales\\\\artifact\\\\data_ingestion\\\\2022-11-18-15-59-57\\\\zip_data', raw_data_dir='d:\\\\iNeuron\\\\ML_projects\\\\Big_mart_sales\\\\sales\\\\artifact\\\\data_ingestion\\\\2022-11-18-15-59-57\\\\raw_data', ingested_train_dir='d:\\\\iNeuron\\\\ML_projects\\\\Big_mart_sales\\\\sales\\\\artifact\\\\data_ingestion\\\\2022-11-18-15-59-57\\\\ingested_data\\\\train', ingested_test_dir='d:\\\\iNeuron\\\\ML_projects\\\\Big_mart_sales\\\\sales\\\\artifact\\\\data_ingestion\\\\2022-11-18-15-59-57\\\\ingested_data\\\\test', ingested_dir='d:\\\\iNeuron\\\\ML_projects\\\\Big_mart_sales\\\\sales\\\\artifact\\\\data_ingestion\\\\2022-11-18-15-59-57\\\\ingested_data')\n"
     ]
    }
   ],
   "source": [
    "data_inge_confi = confi.get_data_ingestion_config()"
   ]
  },
  {
   "cell_type": "code",
   "execution_count": 8,
   "metadata": {},
   "outputs": [],
   "source": [
    "from BigMartSales.components import DataIngestion"
   ]
  },
  {
   "cell_type": "code",
   "execution_count": 9,
   "metadata": {},
   "outputs": [
    {
     "name": "stdout",
     "output_type": "stream",
     "text": [
      "[2022-11-18 16:03:13,246]^;INFO^;19^;data_ingestion.py^;__init__()^;>>>>>>>>>>>>>>>>>>>>>>>>>>>>>> Data Ingestion Started <<<<<<<<<<<<<<<<<<<<<<<<<<<<<<\n",
      "[2022-11-18 16:03:13,246]^;INFO^;33^;data_ingestion.py^;download_data()^;Downloading file from : https://github.com/ajaharleo/kaggle_datasets/blob/main/Big_mart_sales.zip?raw=true into : d:\\iNeuron\\ML_projects\\Big_mart_sales\\sales\\artifact\\data_ingestion\\2022-11-18-15-59-57\\zip_data \n",
      "[2022-11-18 16:03:15,335]^;INFO^;43^;data_ingestion.py^;download_data()^;File downloaded successfully  d:\\iNeuron\\ML_projects\\Big_mart_sales\\sales\\artifact\\data_ingestion\\2022-11-18-15-59-57\\zip_data \n",
      "[2022-11-18 16:03:15,335]^;INFO^;58^;data_ingestion.py^;extract_data()^;Extracting zip file d:\\iNeuron\\ML_projects\\Big_mart_sales\\sales\\artifact\\data_ingestion\\2022-11-18-15-59-57\\zip_data into dir d:\\iNeuron\\ML_projects\\Big_mart_sales\\sales\\artifact\\data_ingestion\\2022-11-18-15-59-57\\raw_data \n",
      "None\n",
      "[2022-11-18 16:03:15,364]^;INFO^;68^;data_ingestion.py^;extract_data()^;>>>>>>>>>>>>>>>>>>>> Extraction completed <<<<<<<<<<<<<<<<<<<<\n",
      "[2022-11-18 16:03:15,368]^;INFO^;83^;data_ingestion.py^;split_data_as_train_test()^;Reading csv file: [d:\\iNeuron\\ML_projects\\Big_mart_sales\\sales\\artifact\\data_ingestion\\2022-11-18-15-59-57\\raw_data\\data.csv]\n",
      "[2022-11-18 16:03:15,768]^;INFO^;86^;data_ingestion.py^;split_data_as_train_test()^;Splitting data into train and test with test data ration = 0.2\n",
      "[2022-11-18 16:03:15,776]^;INFO^;97^;data_ingestion.py^;split_data_as_train_test()^;Exporting training datset to file: [d:\\iNeuron\\ML_projects\\Big_mart_sales\\sales\\artifact\\data_ingestion\\2022-11-18-15-59-57\\ingested_data\\train\\data.csv]\n",
      "[2022-11-18 16:03:15,872]^;INFO^;101^;data_ingestion.py^;split_data_as_train_test()^;Exporting test dataset to file: [d:\\iNeuron\\ML_projects\\Big_mart_sales\\sales\\artifact\\data_ingestion\\2022-11-18-15-59-57\\ingested_data\\test\\data.csv]\n",
      "[2022-11-18 16:03:15,896]^;INFO^;115^;data_ingestion.py^;split_data_as_train_test()^;data_ingestion_artifact : [DataIngestionArtifact(train_file_path='d:\\\\iNeuron\\\\ML_projects\\\\Big_mart_sales\\\\sales\\\\artifact\\\\data_ingestion\\\\2022-11-18-15-59-57\\\\ingested_data\\\\train\\\\data.csv', test_file_path='d:\\\\iNeuron\\\\ML_projects\\\\Big_mart_sales\\\\sales\\\\artifact\\\\data_ingestion\\\\2022-11-18-15-59-57\\\\ingested_data\\\\test\\\\data.csv', is_ingested=True, message='Data ingestion completed successfully.')]\n",
      "[2022-11-18 16:03:15,900]^;INFO^;136^;data_ingestion.py^;__del__()^;>>>>>>>>>>>>>>>>>>>>>>>>>>>>>>>>>>>>>>>> Data Ingestion completed <<<<<<<<<<<<<<<<<<<<<<<<<<<<<<<<<<<<<<<< \n",
      "\n",
      "\n"
     ]
    }
   ],
   "source": [
    "data_ing = DataIngestion(data_inge_confi).initiate_data_ingestion()"
   ]
  },
  {
   "cell_type": "code",
   "execution_count": 11,
   "metadata": {},
   "outputs": [],
   "source": [
    "data_ing_artifact = data_ing"
   ]
  },
  {
   "cell_type": "code",
   "execution_count": null,
   "metadata": {},
   "outputs": [],
   "source": []
  }
 ],
 "metadata": {
  "kernelspec": {
   "display_name": "Python 3.8.15",
   "language": "python",
   "name": "python3"
  },
  "language_info": {
   "codemirror_mode": {
    "name": "ipython",
    "version": 3
   },
   "file_extension": ".py",
   "mimetype": "text/x-python",
   "name": "python",
   "nbconvert_exporter": "python",
   "pygments_lexer": "ipython3",
   "version": "3.8.15"
  },
  "orig_nbformat": 4,
  "vscode": {
   "interpreter": {
    "hash": "8a86b7a534e022be7464d99244c6774955de2ec996bf32cd5efb4d6b459cb4f1"
   }
  }
 },
 "nbformat": 4,
 "nbformat_minor": 2
}
