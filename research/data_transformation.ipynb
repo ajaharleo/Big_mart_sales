{
 "cells": [
  {
   "cell_type": "code",
   "execution_count": 1,
   "metadata": {},
   "outputs": [
    {
     "data": {
      "text/plain": [
       "'d:\\\\iNeuron\\\\ML_projects\\\\Big_mart_sales\\\\research'"
      ]
     },
     "execution_count": 1,
     "metadata": {},
     "output_type": "execute_result"
    }
   ],
   "source": [
    "import os\n",
    "os.getcwd()"
   ]
  },
  {
   "cell_type": "code",
   "execution_count": 2,
   "metadata": {},
   "outputs": [
    {
     "data": {
      "text/plain": [
       "'d:\\\\iNeuron\\\\ML_projects\\\\Big_mart_sales'"
      ]
     },
     "execution_count": 2,
     "metadata": {},
     "output_type": "execute_result"
    }
   ],
   "source": [
    "os.chdir('../')\n",
    "os.getcwd()"
   ]
  },
  {
   "cell_type": "code",
   "execution_count": 3,
   "metadata": {},
   "outputs": [],
   "source": [
    "from BigMartSales.config import Configuration"
   ]
  },
  {
   "cell_type": "code",
   "execution_count": 4,
   "metadata": {},
   "outputs": [
    {
     "name": "stdout",
     "output_type": "stream",
     "text": [
      "[2022-11-23 12:00:26,638]^;INFO^;26^;common.py^;read_yaml()^;yaml file: configs\\config.yaml loaded successfully\n",
      "[2022-11-23 12:00:26,640]^;INFO^;199^;__init__.py^;get_training_pipeline_config()^;Training pipleine config: TrainingPipelineConfig(artifact_dir='d:\\\\iNeuron\\\\ML_projects\\\\Big_mart_sales\\\\sales\\\\artifact')\n"
     ]
    }
   ],
   "source": [
    "confi = Configuration('configs/config.yaml')"
   ]
  },
  {
   "cell_type": "code",
   "execution_count": 5,
   "metadata": {},
   "outputs": [
    {
     "name": "stdout",
     "output_type": "stream",
     "text": [
      "[2022-11-23 12:00:26,709]^;INFO^;55^;__init__.py^;get_data_ingestion_config()^;DataIngestionConfig: DataIngestionConfig(dataset_download_url='https://github.com/ajaharleo/kaggle_datasets/blob/main/Big_mart_sales.zip?raw=true', zip_download_dir='d:\\\\iNeuron\\\\ML_projects\\\\Big_mart_sales\\\\sales\\\\artifact\\\\data_ingestion\\\\2022-11-23-12-00-25\\\\zip_data', raw_data_dir='d:\\\\iNeuron\\\\ML_projects\\\\Big_mart_sales\\\\sales\\\\artifact\\\\data_ingestion\\\\2022-11-23-12-00-25\\\\raw_data', ingested_train_dir='d:\\\\iNeuron\\\\ML_projects\\\\Big_mart_sales\\\\sales\\\\artifact\\\\data_ingestion\\\\2022-11-23-12-00-25\\\\ingested_data\\\\train', ingested_test_dir='d:\\\\iNeuron\\\\ML_projects\\\\Big_mart_sales\\\\sales\\\\artifact\\\\data_ingestion\\\\2022-11-23-12-00-25\\\\ingested_data\\\\test', ingested_dir='d:\\\\iNeuron\\\\ML_projects\\\\Big_mart_sales\\\\sales\\\\artifact\\\\data_ingestion\\\\2022-11-23-12-00-25\\\\ingested_data')\n"
     ]
    }
   ],
   "source": [
    "data_ing_confi = confi.get_data_ingestion_config()"
   ]
  },
  {
   "cell_type": "code",
   "execution_count": 6,
   "metadata": {},
   "outputs": [],
   "source": [
    "from BigMartSales.components import DataIngestion"
   ]
  },
  {
   "cell_type": "code",
   "execution_count": 7,
   "metadata": {},
   "outputs": [
    {
     "name": "stdout",
     "output_type": "stream",
     "text": [
      "[2022-11-23 12:00:27,355]^;INFO^;19^;data_ingestion.py^;__init__()^;>>>>>>>>>>>>>>>>>>>>>>>>>>>>>> Data Ingestion Started <<<<<<<<<<<<<<<<<<<<<<<<<<<<<<\n",
      "[2022-11-23 12:00:27,356]^;INFO^;33^;data_ingestion.py^;download_data()^;Downloading file from : https://github.com/ajaharleo/kaggle_datasets/blob/main/Big_mart_sales.zip?raw=true into : d:\\iNeuron\\ML_projects\\Big_mart_sales\\sales\\artifact\\data_ingestion\\2022-11-23-12-00-25\\zip_data \n",
      "[2022-11-23 12:00:28,662]^;INFO^;43^;data_ingestion.py^;download_data()^;File downloaded successfully  d:\\iNeuron\\ML_projects\\Big_mart_sales\\sales\\artifact\\data_ingestion\\2022-11-23-12-00-25\\zip_data \n",
      "[2022-11-23 12:00:28,663]^;INFO^;58^;data_ingestion.py^;extract_data()^;Extracting zip file d:\\iNeuron\\ML_projects\\Big_mart_sales\\sales\\artifact\\data_ingestion\\2022-11-23-12-00-25\\zip_data into dir d:\\iNeuron\\ML_projects\\Big_mart_sales\\sales\\artifact\\data_ingestion\\2022-11-23-12-00-25\\raw_data \n",
      "None\n",
      "[2022-11-23 12:00:28,676]^;INFO^;68^;data_ingestion.py^;extract_data()^;>>>>>>>>>>>>>>>>>>>> Extraction completed <<<<<<<<<<<<<<<<<<<<\n",
      "[2022-11-23 12:00:28,677]^;INFO^;83^;data_ingestion.py^;split_data_as_train_test()^;Reading csv file: [d:\\iNeuron\\ML_projects\\Big_mart_sales\\sales\\artifact\\data_ingestion\\2022-11-23-12-00-25\\raw_data\\data.csv]\n",
      "[2022-11-23 12:00:28,695]^;INFO^;86^;data_ingestion.py^;split_data_as_train_test()^;Splitting data into train and test with test data ration = 0.2\n",
      "[2022-11-23 12:00:28,699]^;INFO^;97^;data_ingestion.py^;split_data_as_train_test()^;Exporting training datset to file: [d:\\iNeuron\\ML_projects\\Big_mart_sales\\sales\\artifact\\data_ingestion\\2022-11-23-12-00-25\\ingested_data\\train\\data.csv]\n",
      "[2022-11-23 12:00:28,741]^;INFO^;101^;data_ingestion.py^;split_data_as_train_test()^;Exporting test dataset to file: [d:\\iNeuron\\ML_projects\\Big_mart_sales\\sales\\artifact\\data_ingestion\\2022-11-23-12-00-25\\ingested_data\\test\\data.csv]\n",
      "[2022-11-23 12:00:28,754]^;INFO^;115^;data_ingestion.py^;split_data_as_train_test()^;data_ingestion_artifact : [DataIngestionArtifact(train_file_path='d:\\\\iNeuron\\\\ML_projects\\\\Big_mart_sales\\\\sales\\\\artifact\\\\data_ingestion\\\\2022-11-23-12-00-25\\\\ingested_data\\\\train\\\\data.csv', test_file_path='d:\\\\iNeuron\\\\ML_projects\\\\Big_mart_sales\\\\sales\\\\artifact\\\\data_ingestion\\\\2022-11-23-12-00-25\\\\ingested_data\\\\test\\\\data.csv', is_ingested=True, message='Data ingestion completed successfully.')]\n",
      "[2022-11-23 12:00:28,755]^;INFO^;136^;data_ingestion.py^;__del__()^;>>>>>>>>>>>>>>>>>>>>>>>>>>>>>>>>>>>>>>>> Data Ingestion completed <<<<<<<<<<<<<<<<<<<<<<<<<<<<<<<<<<<<<<<< \n",
      "\n",
      "\n"
     ]
    }
   ],
   "source": [
    "data_ing_arti = DataIngestion(data_ingestion_config=data_ing_confi).initiate_data_ingestion()"
   ]
  },
  {
   "cell_type": "code",
   "execution_count": 8,
   "metadata": {},
   "outputs": [],
   "source": [
    "from BigMartSales.components import DataValidation"
   ]
  },
  {
   "cell_type": "code",
   "execution_count": 9,
   "metadata": {},
   "outputs": [
    {
     "name": "stdout",
     "output_type": "stream",
     "text": [
      "[2022-11-23 12:00:28,824]^;INFO^;89^;__init__.py^;get_data_validation_config()^;DataValidationConfig: [DataValidationConfig(schema_file_path='d:\\\\iNeuron\\\\ML_projects\\\\Big_mart_sales\\\\configs\\\\schema.yaml', report_file_path='d:\\\\iNeuron\\\\ML_projects\\\\Big_mart_sales\\\\sales\\\\artifact\\\\data_validation\\\\2022-11-23-12-00-25\\\\report.json', report_page_file_path='d:\\\\iNeuron\\\\ML_projects\\\\Big_mart_sales\\\\sales\\\\artifact\\\\data_validation\\\\2022-11-23-12-00-25\\\\report.html')]\n"
     ]
    }
   ],
   "source": [
    "data_valid_confi = confi.get_data_validation_config()"
   ]
  },
  {
   "cell_type": "code",
   "execution_count": 10,
   "metadata": {},
   "outputs": [
    {
     "name": "stdout",
     "output_type": "stream",
     "text": [
      "[2022-11-23 12:00:28,860]^;INFO^;22^;data_validation.py^;__init__()^;>>>>>>>>>>>>>>>>>>>>>>>>>>>>>>>>>>>>>>>>>>>>>>>>>>>>>>>>>>>> DataValidation started <<<<<<<<<<<<<<<<<<<<<<<<<<<<<<<<<<<<<<<<<<<<<<<<<<<<<<<<<<<< \n",
      "\n",
      "\n",
      "[2022-11-23 12:00:28,870]^;INFO^;26^;common.py^;read_yaml()^;yaml file: d:\\iNeuron\\ML_projects\\Big_mart_sales\\configs\\schema.yaml loaded successfully\n",
      "[2022-11-23 12:00:28,872]^;INFO^;52^;data_validation.py^;do_train_test_files_exist()^;IS train and test File Exists? -> True\n",
      "[2022-11-23 12:00:28,882]^;INFO^;26^;common.py^;read_yaml()^;yaml file: d:\\iNeuron\\ML_projects\\Big_mart_sales\\configs\\schema.yaml loaded successfully\n",
      "[2022-11-23 12:00:28,904]^;INFO^;67^;data_validation.py^;validation_dataset_schema()^;Checking no. of columns in train and test dataset\n",
      "[2022-11-23 12:00:28,905]^;INFO^;71^;data_validation.py^;validation_dataset_schema()^;No. of columns are same in train and test dataset and in schema file.\n",
      "[2022-11-23 12:00:28,905]^;INFO^;72^;data_validation.py^;validation_dataset_schema()^;Checking columns names\n",
      "[2022-11-23 12:00:28,906]^;INFO^;79^;data_validation.py^;validation_dataset_schema()^;Train and test dataset have column required in schema file\n",
      "[2022-11-23 12:00:28,906]^;INFO^;80^;data_validation.py^;validation_dataset_schema()^;Checking the datatypes of all columns\n",
      "[2022-11-23 12:00:28,907]^;INFO^;83^;data_validation.py^;validation_dataset_schema()^;Column 'Item_Identifier' has correct datatype in both train and test dataset.\n",
      "[2022-11-23 12:00:28,908]^;INFO^;83^;data_validation.py^;validation_dataset_schema()^;Column 'Item_Weight' has correct datatype in both train and test dataset.\n",
      "[2022-11-23 12:00:28,909]^;INFO^;83^;data_validation.py^;validation_dataset_schema()^;Column 'Item_Fat_Content' has correct datatype in both train and test dataset.\n",
      "[2022-11-23 12:00:28,910]^;INFO^;83^;data_validation.py^;validation_dataset_schema()^;Column 'Item_Visibility' has correct datatype in both train and test dataset.\n",
      "[2022-11-23 12:00:28,911]^;INFO^;83^;data_validation.py^;validation_dataset_schema()^;Column 'Item_Type' has correct datatype in both train and test dataset.\n",
      "[2022-11-23 12:00:28,912]^;INFO^;83^;data_validation.py^;validation_dataset_schema()^;Column 'Item_MRP' has correct datatype in both train and test dataset.\n",
      "[2022-11-23 12:00:28,912]^;INFO^;83^;data_validation.py^;validation_dataset_schema()^;Column 'Outlet_Identifier' has correct datatype in both train and test dataset.\n",
      "[2022-11-23 12:00:28,913]^;INFO^;83^;data_validation.py^;validation_dataset_schema()^;Column 'Outlet_Establishment_Year' has correct datatype in both train and test dataset.\n",
      "[2022-11-23 12:00:28,914]^;INFO^;83^;data_validation.py^;validation_dataset_schema()^;Column 'Outlet_Size' has correct datatype in both train and test dataset.\n",
      "[2022-11-23 12:00:28,914]^;INFO^;83^;data_validation.py^;validation_dataset_schema()^;Column 'Outlet_Location_Type' has correct datatype in both train and test dataset.\n",
      "[2022-11-23 12:00:28,915]^;INFO^;83^;data_validation.py^;validation_dataset_schema()^;Column 'Outlet_Type' has correct datatype in both train and test dataset.\n",
      "[2022-11-23 12:00:28,916]^;INFO^;83^;data_validation.py^;validation_dataset_schema()^;Column 'Item_Outlet_Sales' has correct datatype in both train and test dataset.\n",
      "[2022-11-23 12:00:28,917]^;INFO^;87^;data_validation.py^;validation_dataset_schema()^;Checking the domain values of categorical columns\n",
      "[2022-11-23 12:00:28,918]^;INFO^;89^;data_validation.py^;validation_dataset_schema()^;Checking domain values of column 'Outlet_Location_Type'\n",
      "[2022-11-23 12:00:28,919]^;INFO^;97^;data_validation.py^;validation_dataset_schema()^;column 'Outlet_Location_Type' has all the required categories and no extra category\n",
      "[2022-11-23 12:00:28,920]^;INFO^;89^;data_validation.py^;validation_dataset_schema()^;Checking domain values of column 'Outlet_Type'\n",
      "[2022-11-23 12:00:28,921]^;INFO^;97^;data_validation.py^;validation_dataset_schema()^;column 'Outlet_Type' has all the required categories and no extra category\n",
      "[2022-11-23 12:00:28,922]^;INFO^;89^;data_validation.py^;validation_dataset_schema()^;Checking domain values of column 'Item_Type'\n",
      "[2022-11-23 12:00:28,924]^;INFO^;97^;data_validation.py^;validation_dataset_schema()^;column 'Item_Type' has all the required categories and no extra category\n",
      "[2022-11-23 12:00:28,925]^;INFO^;89^;data_validation.py^;validation_dataset_schema()^;Checking domain values of column 'Outlet_Identifier'\n",
      "[2022-11-23 12:00:28,927]^;INFO^;97^;data_validation.py^;validation_dataset_schema()^;column 'Outlet_Identifier' has all the required categories and no extra category\n",
      "[2022-11-23 12:00:28,928]^;INFO^;98^;data_validation.py^;validation_dataset_schema()^;Data Validation Successful!\n",
      "[2022-11-23 12:00:28,928]^;INFO^;101^;data_validation.py^;validation_dataset_schema()^;Data Validation done and stats : True\n",
      "[2022-11-23 12:00:29,989]^;INFO^;191^;data_validation.py^;initiate_data_validation()^;Data validation artifact : DataValidationArtifact(schema_file_path='d:\\\\iNeuron\\\\ML_projects\\\\Big_mart_sales\\\\configs\\\\schema.yaml', report_file_path='d:\\\\iNeuron\\\\ML_projects\\\\Big_mart_sales\\\\sales\\\\artifact\\\\data_validation\\\\2022-11-23-12-00-25\\\\report.json', report_page_file_path='d:\\\\iNeuron\\\\ML_projects\\\\Big_mart_sales\\\\sales\\\\artifact\\\\data_validation\\\\2022-11-23-12-00-25\\\\report.html', is_validated=True, message=' data Validation Performed Successfully')\n",
      "[2022-11-23 12:00:29,990]^;INFO^;197^;data_validation.py^;__del__()^;>>>>>>>>>>>>>>>>>>>>>>>>>>>>>>>>>>>>>>>>>>>>>>>>>>>>>>>>>>>> Data Validation completed <<<<<<<<<<<<<<<<<<<<<<<<<<<<<<<<<<<<<<<<<<<<<<<<<<<<<<<<<<<< \n",
      "\n",
      "\n"
     ]
    }
   ],
   "source": [
    "data_valid_arti = DataValidation(data_ing_arti,data_valid_confi).initiate_data_validation()"
   ]
  },
  {
   "cell_type": "code",
   "execution_count": 11,
   "metadata": {},
   "outputs": [
    {
     "data": {
      "text/plain": [
       "'d:\\\\iNeuron\\\\ML_projects\\\\Big_mart_sales\\\\configs\\\\schema.yaml'"
      ]
     },
     "execution_count": 11,
     "metadata": {},
     "output_type": "execute_result"
    }
   ],
   "source": [
    "data_valid_arti.schema_file_path"
   ]
  },
  {
   "cell_type": "code",
   "execution_count": 12,
   "metadata": {},
   "outputs": [],
   "source": [
    "from BigMartSales.entity import DataIngestionArtifact,DataValidationArtifact,DataTransformationConfig,DataTransformationArtifact\n",
    "from BigMartSales import logger\n",
    "from BigMartSales.constants import * \n",
    "from BigMartSales.utils import read_yaml,save_numpy_array_data,save_object"
   ]
  },
  {
   "cell_type": "code",
   "execution_count": 13,
   "metadata": {},
   "outputs": [],
   "source": [
    "class DataTransformation:\n",
    "    def __init__(self,data_validation_artifact:DataValidationArtifact,\n",
    "                    data_ingestion_artifact :DataIngestionArtifact,\n",
    "                    data_transformation_config :DataTransformationConfig ):\n",
    "        try:\n",
    "            logger.info(f\"{'>>'*30} Data Transformation Started {'<<'*30}\")\n",
    "            logger.info(f'data_validation_arti_type:{type(data_validation_artifact)}')\n",
    "            self.data_validation_artifact = data_validation_artifact\n",
    "            logger.info(f'self.data_validation_arti_type:{type(self.data_validation_artifact)}')\n",
    "            #self.data_validation_artifact = self.data_validation_artifact[0]\n",
    "            logger.info(f'data_ingestion_artifact_type:{type(data_ingestion_artifact)}')        \n",
    "            self.data_ingestion_artifact = data_ingestion_artifact\n",
    "            #self.data_ingestion_artifact = self.data_ingestion_artifact[0]\n",
    "            logger.info(f'self.data_ingestion_artifact_type:{type(self.data_ingestion_artifact)}')        \n",
    "            self.data_transformation_config = data_transformation_config\n",
    "            logger.info(f'data_transformation_config_type:{type(data_transformation_config)}')   \n",
    "            logger.info(f'self.data_ingestion_artifact.train_file_path_type:{type(self.data_ingestion_artifact.train_file_path)}')  \n",
    "            logger.info(f'train_file_path: {self.data_ingestion_artifact.train_file_path}')                          \n",
    "                         \n",
    "        except Exception as e:\n",
    "            logger.exception(e)"
   ]
  },
  {
   "cell_type": "code",
   "execution_count": 14,
   "metadata": {},
   "outputs": [
    {
     "name": "stdout",
     "output_type": "stream",
     "text": [
      "[2022-11-23 12:00:30,174]^;INFO^;130^;__init__.py^;get_data_transformation_config()^;DataTransformationConfig: DataTransformationConfig(transformed_train_dir='d:\\\\iNeuron\\\\ML_projects\\\\Big_mart_sales\\\\sales\\\\artifact\\\\data_transformation\\\\2022-11-23-12-00-25\\\\transformed_data\\\\train', transformed_test_dir='d:\\\\iNeuron\\\\ML_projects\\\\Big_mart_sales\\\\sales\\\\artifact\\\\data_transformation\\\\2022-11-23-12-00-25\\\\transformed_data\\\\test', preprocessed_object_file_path='d:\\\\iNeuron\\\\ML_projects\\\\Big_mart_sales\\\\sales\\\\artifact\\\\data_transformation\\\\2022-11-23-12-00-25\\\\preprocessed\\\\preprocessed.pkl', transformed_train_file='d:\\\\iNeuron\\\\ML_projects\\\\Big_mart_sales\\\\sales\\\\artifact\\\\data_transformation\\\\2022-11-23-12-00-25\\\\preprocessed_files\\\\train_transformed', transformed_test_file='d:\\\\iNeuron\\\\ML_projects\\\\Big_mart_sales\\\\sales\\\\artifact\\\\data_transformation\\\\2022-11-23-12-00-25\\\\preprocessed_files\\\\test_transformed')\n"
     ]
    }
   ],
   "source": [
    "data_trans_confi = confi.get_data_transformation_config()"
   ]
  },
  {
   "cell_type": "code",
   "execution_count": 15,
   "metadata": {},
   "outputs": [
    {
     "name": "stdout",
     "output_type": "stream",
     "text": [
      "<class 'BigMartSales.entity.artifact_entity.DataValidationArtifact'>\n",
      "<class 'BigMartSales.entity.artifact_entity.DataIngestionArtifact'>\n",
      "<class 'BigMartSales.entity.config_entity.DataTransformationConfig'>\n"
     ]
    }
   ],
   "source": [
    "print(type(data_valid_arti),end='\\n')\n",
    "print(type(data_ing_arti),end='\\n')\n",
    "print(type(data_trans_confi),end='\\n')"
   ]
  },
  {
   "cell_type": "code",
   "execution_count": 16,
   "metadata": {},
   "outputs": [
    {
     "name": "stdout",
     "output_type": "stream",
     "text": [
      "[2022-11-23 12:00:30,267]^;INFO^;6^;2770105546.py^;__init__()^;>>>>>>>>>>>>>>>>>>>>>>>>>>>>>>>>>>>>>>>>>>>>>>>>>>>>>>>>>>>> Data Transformation Started <<<<<<<<<<<<<<<<<<<<<<<<<<<<<<<<<<<<<<<<<<<<<<<<<<<<<<<<<<<<\n",
      "[2022-11-23 12:00:30,268]^;INFO^;7^;2770105546.py^;__init__()^;data_validation_arti_type:<class 'BigMartSales.entity.artifact_entity.DataValidationArtifact'>\n",
      "[2022-11-23 12:00:30,270]^;INFO^;9^;2770105546.py^;__init__()^;self.data_validation_arti_type:<class 'BigMartSales.entity.artifact_entity.DataValidationArtifact'>\n",
      "[2022-11-23 12:00:30,271]^;INFO^;11^;2770105546.py^;__init__()^;data_ingestion_artifact_type:<class 'BigMartSales.entity.artifact_entity.DataIngestionArtifact'>\n",
      "[2022-11-23 12:00:30,273]^;INFO^;14^;2770105546.py^;__init__()^;self.data_ingestion_artifact_type:<class 'BigMartSales.entity.artifact_entity.DataIngestionArtifact'>\n",
      "[2022-11-23 12:00:30,274]^;INFO^;16^;2770105546.py^;__init__()^;data_transformation_config_type:<class 'BigMartSales.entity.config_entity.DataTransformationConfig'>\n",
      "[2022-11-23 12:00:30,276]^;INFO^;17^;2770105546.py^;__init__()^;self.data_ingestion_artifact.train_file_path_type:<class 'str'>\n",
      "[2022-11-23 12:00:30,277]^;INFO^;18^;2770105546.py^;__init__()^;train_file_path: d:\\iNeuron\\ML_projects\\Big_mart_sales\\sales\\artifact\\data_ingestion\\2022-11-23-12-00-25\\ingested_data\\train\\data.csv\n"
     ]
    }
   ],
   "source": [
    "data_trans_artifact = DataTransformation(data_valid_arti,data_ing_arti,data_trans_confi)"
   ]
  },
  {
   "cell_type": "code",
   "execution_count": 17,
   "metadata": {},
   "outputs": [],
   "source": [
    "from BigMartSales.components import DataTransformation"
   ]
  },
  {
   "cell_type": "code",
   "execution_count": 18,
   "metadata": {},
   "outputs": [
    {
     "name": "stdout",
     "output_type": "stream",
     "text": [
      "[2022-11-23 12:00:30,367]^;INFO^;24^;data_transformation.py^;__init__()^;>>>>>>>>>>>>>>>>>>>>>>>>>>>>>>>>>>>>>>>>>>>>>>>>>>>>>>>>>>>> Data Transformation Started <<<<<<<<<<<<<<<<<<<<<<<<<<<<<<<<<<<<<<<<<<<<<<<<<<<<<<<<<<<<\n",
      "[2022-11-23 12:00:30,378]^;INFO^;26^;common.py^;read_yaml()^;yaml file: d:\\iNeuron\\ML_projects\\Big_mart_sales\\configs\\schema.yaml loaded successfully\n",
      "[2022-11-23 12:00:30,381]^;INFO^;59^;data_transformation.py^;get_data_transformer_object()^;Categorical columns : ['Item_Identifier', 'Item_Fat_Content', 'Outlet_Size', 'Outlet_Location_Type', 'Outlet_Type']\n",
      "[2022-11-23 12:00:30,382]^;INFO^;60^;data_transformation.py^;get_data_transformer_object()^;Numerical columns : ['Item_Weight', 'Item_Visibility', 'Item_MRP', 'Outlet_age']\n",
      "[2022-11-23 12:00:30,383]^;INFO^;109^;data_transformation.py^;initiate_data_transformation()^;Preprocessing object received\n",
      "[2022-11-23 12:00:30,385]^;INFO^;111^;data_transformation.py^;initiate_data_transformation()^;obtaining Test and Train files and loading as pandas dataframe\n",
      "[2022-11-23 12:00:30,386]^;INFO^;113^;data_transformation.py^;initiate_data_transformation()^;Data_ingestion_artifact components are : DataIngestionArtifact(train_file_path='d:\\\\iNeuron\\\\ML_projects\\\\Big_mart_sales\\\\sales\\\\artifact\\\\data_ingestion\\\\2022-11-23-12-00-25\\\\ingested_data\\\\train\\\\data.csv', test_file_path='d:\\\\iNeuron\\\\ML_projects\\\\Big_mart_sales\\\\sales\\\\artifact\\\\data_ingestion\\\\2022-11-23-12-00-25\\\\ingested_data\\\\test\\\\data.csv', is_ingested=True, message='Data ingestion completed successfully.')\n",
      "[2022-11-23 12:00:30,415]^;INFO^;119^;data_transformation.py^;initiate_data_transformation()^;data_validation_artifact components are : DataValidationArtifact(schema_file_path='d:\\\\iNeuron\\\\ML_projects\\\\Big_mart_sales\\\\configs\\\\schema.yaml', report_file_path='d:\\\\iNeuron\\\\ML_projects\\\\Big_mart_sales\\\\sales\\\\artifact\\\\data_validation\\\\2022-11-23-12-00-25\\\\report.json', report_page_file_path='d:\\\\iNeuron\\\\ML_projects\\\\Big_mart_sales\\\\sales\\\\artifact\\\\data_validation\\\\2022-11-23-12-00-25\\\\report.html', is_validated=True, message=' data Validation Performed Successfully')\n",
      "[2022-11-23 12:00:30,424]^;INFO^;26^;common.py^;read_yaml()^;yaml file: d:\\iNeuron\\ML_projects\\Big_mart_sales\\configs\\schema.yaml loaded successfully\n",
      "[2022-11-23 12:00:30,426]^;INFO^;127^;data_transformation.py^;initiate_data_transformation()^;Seperating input features and target feature from test and train\n",
      "[2022-11-23 12:00:30,462]^;INFO^;176^;data_transformation.py^;initiate_data_transformation()^;Starting applying preprocessing object on both files \n",
      "[2022-11-23 12:00:32,148]^;INFO^;184^;data_transformation.py^;initiate_data_transformation()^;To check operations performed correctly or not will save this dataframe\n",
      "[2022-11-23 12:00:32,352]^;INFO^;233^;data_transformation.py^;initiate_data_transformation()^;Saving transformed training and testing array.\n",
      "[2022-11-23 12:00:32,357]^;INFO^;240^;data_transformation.py^;initiate_data_transformation()^;Saving preprocessing object.\n",
      "[2022-11-23 12:00:32,364]^;INFO^;254^;data_transformation.py^;initiate_data_transformation()^;Data Transformation artifact : DataTransformationArtifact(is_transformed=True, message='Data Transformation Successful', transformed_train_file_path=WindowsPath('d:/iNeuron/ML_projects/Big_mart_sales/sales/artifact/data_transformation/2022-11-23-12-00-25/transformed_data/train/data.npz'), transformed_test_file_path=WindowsPath('d:/iNeuron/ML_projects/Big_mart_sales/sales/artifact/data_transformation/2022-11-23-12-00-25/transformed_data/test/data.npz'), preprocessed_object_file_path=WindowsPath('d:/iNeuron/ML_projects/Big_mart_sales/sales/artifact/data_transformation/2022-11-23-12-00-25/preprocessed/preprocessed.pkl'), transformed_train_arr_df_sorce='d:\\\\iNeuron\\\\ML_projects\\\\Big_mart_sales\\\\sales\\\\artifact\\\\data_transformation\\\\2022-11-23-12-00-25\\\\preprocessed_files\\\\train_transformed\\\\train_array_df.csv', transformed_test_arr_df_source='d:\\\\iNeuron\\\\ML_projects\\\\Big_mart_sales\\\\sales\\\\artifact\\\\data_transformation\\\\2022-11-23-12-00-25\\\\preprocessed_files\\\\test_transformed\\\\test_arry_df.csv')\n",
      "[2022-11-23 12:00:32,366]^;INFO^;262^;data_transformation.py^;__del__()^;>>>>>>>>>>>>>>>>>>>>>>>>>>>>>>>>>>>>>>>>>>>>>>>>>>>>>>>>>>>> Data Transformation completed <<<<<<<<<<<<<<<<<<<<<<<<<<<<<<<<<<<<<<<<<<<<<<<<<<<<<<<<<<<<\n"
     ]
    }
   ],
   "source": [
    "data_trans_artifact = DataTransformation(data_valid_arti,data_ing_arti,data_trans_confi).initiate_data_transformation()"
   ]
  },
  {
   "cell_type": "code",
   "execution_count": null,
   "metadata": {},
   "outputs": [],
   "source": []
  }
 ],
 "metadata": {
  "kernelspec": {
   "display_name": "Python 3.8.15",
   "language": "python",
   "name": "python3"
  },
  "language_info": {
   "codemirror_mode": {
    "name": "ipython",
    "version": 3
   },
   "file_extension": ".py",
   "mimetype": "text/x-python",
   "name": "python",
   "nbconvert_exporter": "python",
   "pygments_lexer": "ipython3",
   "version": "3.8.15"
  },
  "orig_nbformat": 4,
  "vscode": {
   "interpreter": {
    "hash": "8a86b7a534e022be7464d99244c6774955de2ec996bf32cd5efb4d6b459cb4f1"
   }
  }
 },
 "nbformat": 4,
 "nbformat_minor": 2
}
