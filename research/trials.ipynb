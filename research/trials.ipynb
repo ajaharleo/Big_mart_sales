{
 "cells": [
  {
   "cell_type": "code",
   "execution_count": 1,
   "metadata": {},
   "outputs": [
    {
     "data": {
      "text/plain": [
       "'d:\\\\iNeuron\\\\ML_projects\\\\Big_mart_sales\\\\research'"
      ]
     },
     "execution_count": 1,
     "metadata": {},
     "output_type": "execute_result"
    }
   ],
   "source": [
    "import os\n",
    "os.getcwd()"
   ]
  },
  {
   "cell_type": "code",
   "execution_count": 2,
   "metadata": {},
   "outputs": [
    {
     "data": {
      "text/plain": [
       "'d:\\\\iNeuron\\\\ML_projects\\\\Big_mart_sales'"
      ]
     },
     "execution_count": 2,
     "metadata": {},
     "output_type": "execute_result"
    }
   ],
   "source": [
    "os.chdir('../')\n",
    "os.getcwd()"
   ]
  },
  {
   "cell_type": "code",
   "execution_count": 3,
   "metadata": {},
   "outputs": [],
   "source": [
    "import os,sys\n",
    "from BigMartSales import logger\n",
    "from BigMartSales.constants import *\n",
    "from BigMartSales.entity import DataIngestionConfig\n",
    "from BigMartSales.entity import DataIngestionArtifact\n",
    "import requests\n",
    "import zipfile\n",
    "import shutil\n",
    "import pandas as pd \n",
    "from pathlib import Path\n",
    "from sklearn.model_selection import train_test_split"
   ]
  },
  {
   "cell_type": "code",
   "execution_count": 4,
   "metadata": {},
   "outputs": [],
   "source": [
    "current_time = CURRENT_TIME_STAMP\n",
    "config_file = Path(r'configs/config.yaml')"
   ]
  },
  {
   "cell_type": "code",
   "execution_count": 5,
   "metadata": {},
   "outputs": [],
   "source": [
    "from BigMartSales.config import Configuration"
   ]
  },
  {
   "cell_type": "code",
   "execution_count": 6,
   "metadata": {},
   "outputs": [
    {
     "name": "stdout",
     "output_type": "stream",
     "text": [
      "[2022-11-19 21:28:07,763]^;INFO^;26^;common.py^;read_yaml()^;yaml file: configs\\config.yaml loaded successfully\n",
      "[2022-11-19 21:28:07,765]^;INFO^;199^;__init__.py^;get_training_pipeline_config()^;Training pipleine config: TrainingPipelineConfig(artifact_dir='d:\\\\iNeuron\\\\ML_projects\\\\Big_mart_sales\\\\sales\\\\artifact')\n"
     ]
    }
   ],
   "source": [
    "confi = Configuration(config_file_path=config_file,current_time_stamp=current_time)"
   ]
  },
  {
   "cell_type": "code",
   "execution_count": 7,
   "metadata": {},
   "outputs": [
    {
     "name": "stdout",
     "output_type": "stream",
     "text": [
      "[2022-11-19 21:28:07,808]^;INFO^;55^;__init__.py^;get_data_ingestion_config()^;DataIngestionConfig: DataIngestionConfig(dataset_download_url='https://github.com/ajaharleo/kaggle_datasets/blob/main/Big_mart_sales.zip?raw=true', zip_download_dir='d:\\\\iNeuron\\\\ML_projects\\\\Big_mart_sales\\\\sales\\\\artifact\\\\data_ingestion\\\\2022-11-19-21-28-06\\\\zip_data', raw_data_dir='d:\\\\iNeuron\\\\ML_projects\\\\Big_mart_sales\\\\sales\\\\artifact\\\\data_ingestion\\\\2022-11-19-21-28-06\\\\raw_data', ingested_train_dir='d:\\\\iNeuron\\\\ML_projects\\\\Big_mart_sales\\\\sales\\\\artifact\\\\data_ingestion\\\\2022-11-19-21-28-06\\\\ingested_data\\\\train', ingested_test_dir='d:\\\\iNeuron\\\\ML_projects\\\\Big_mart_sales\\\\sales\\\\artifact\\\\data_ingestion\\\\2022-11-19-21-28-06\\\\ingested_data\\\\test', ingested_dir='d:\\\\iNeuron\\\\ML_projects\\\\Big_mart_sales\\\\sales\\\\artifact\\\\data_ingestion\\\\2022-11-19-21-28-06\\\\ingested_data')\n"
     ]
    }
   ],
   "source": [
    "data_inge_confi = confi.get_data_ingestion_config()"
   ]
  },
  {
   "cell_type": "code",
   "execution_count": 8,
   "metadata": {},
   "outputs": [],
   "source": [
    "from BigMartSales.components import DataIngestion"
   ]
  },
  {
   "cell_type": "code",
   "execution_count": 9,
   "metadata": {},
   "outputs": [
    {
     "name": "stdout",
     "output_type": "stream",
     "text": [
      "[2022-11-19 21:28:08,593]^;INFO^;19^;data_ingestion.py^;__init__()^;>>>>>>>>>>>>>>>>>>>>>>>>>>>>>> Data Ingestion Started <<<<<<<<<<<<<<<<<<<<<<<<<<<<<<\n",
      "[2022-11-19 21:28:08,595]^;INFO^;33^;data_ingestion.py^;download_data()^;Downloading file from : https://github.com/ajaharleo/kaggle_datasets/blob/main/Big_mart_sales.zip?raw=true into : d:\\iNeuron\\ML_projects\\Big_mart_sales\\sales\\artifact\\data_ingestion\\2022-11-19-21-28-06\\zip_data \n",
      "[2022-11-19 21:28:10,066]^;INFO^;43^;data_ingestion.py^;download_data()^;File downloaded successfully  d:\\iNeuron\\ML_projects\\Big_mart_sales\\sales\\artifact\\data_ingestion\\2022-11-19-21-28-06\\zip_data \n",
      "[2022-11-19 21:28:10,069]^;INFO^;58^;data_ingestion.py^;extract_data()^;Extracting zip file d:\\iNeuron\\ML_projects\\Big_mart_sales\\sales\\artifact\\data_ingestion\\2022-11-19-21-28-06\\zip_data into dir d:\\iNeuron\\ML_projects\\Big_mart_sales\\sales\\artifact\\data_ingestion\\2022-11-19-21-28-06\\raw_data \n",
      "None\n",
      "[2022-11-19 21:28:10,090]^;INFO^;68^;data_ingestion.py^;extract_data()^;>>>>>>>>>>>>>>>>>>>> Extraction completed <<<<<<<<<<<<<<<<<<<<\n",
      "[2022-11-19 21:28:10,093]^;INFO^;83^;data_ingestion.py^;split_data_as_train_test()^;Reading csv file: [d:\\iNeuron\\ML_projects\\Big_mart_sales\\sales\\artifact\\data_ingestion\\2022-11-19-21-28-06\\raw_data\\data.csv]\n",
      "[2022-11-19 21:28:10,127]^;INFO^;86^;data_ingestion.py^;split_data_as_train_test()^;Splitting data into train and test with test data ration = 0.2\n",
      "[2022-11-19 21:28:10,133]^;INFO^;97^;data_ingestion.py^;split_data_as_train_test()^;Exporting training datset to file: [d:\\iNeuron\\ML_projects\\Big_mart_sales\\sales\\artifact\\data_ingestion\\2022-11-19-21-28-06\\ingested_data\\train\\data.csv]\n",
      "[2022-11-19 21:28:10,209]^;INFO^;101^;data_ingestion.py^;split_data_as_train_test()^;Exporting test dataset to file: [d:\\iNeuron\\ML_projects\\Big_mart_sales\\sales\\artifact\\data_ingestion\\2022-11-19-21-28-06\\ingested_data\\test\\data.csv]\n",
      "[2022-11-19 21:28:10,236]^;INFO^;115^;data_ingestion.py^;split_data_as_train_test()^;data_ingestion_artifact : [DataIngestionArtifact(train_file_path='d:\\\\iNeuron\\\\ML_projects\\\\Big_mart_sales\\\\sales\\\\artifact\\\\data_ingestion\\\\2022-11-19-21-28-06\\\\ingested_data\\\\train\\\\data.csv', test_file_path='d:\\\\iNeuron\\\\ML_projects\\\\Big_mart_sales\\\\sales\\\\artifact\\\\data_ingestion\\\\2022-11-19-21-28-06\\\\ingested_data\\\\test\\\\data.csv', is_ingested=True, message='Data ingestion completed successfully.')]\n",
      "[2022-11-19 21:28:10,239]^;INFO^;136^;data_ingestion.py^;__del__()^;>>>>>>>>>>>>>>>>>>>>>>>>>>>>>>>>>>>>>>>> Data Ingestion completed <<<<<<<<<<<<<<<<<<<<<<<<<<<<<<<<<<<<<<<< \n",
      "\n",
      "\n"
     ]
    }
   ],
   "source": [
    "data_ing = DataIngestion(data_inge_confi).initiate_data_ingestion()"
   ]
  },
  {
   "cell_type": "code",
   "execution_count": 10,
   "metadata": {},
   "outputs": [],
   "source": [
    "data_ing_artifact = data_ing"
   ]
  },
  {
   "cell_type": "code",
   "execution_count": 11,
   "metadata": {},
   "outputs": [
    {
     "name": "stdout",
     "output_type": "stream",
     "text": [
      "[2022-11-19 21:28:10,385]^;INFO^;89^;__init__.py^;get_data_validation_config()^;DataValidationConfig: [DataValidationConfig(schema_file_path='d:\\\\iNeuron\\\\ML_projects\\\\Big_mart_sales\\\\configs\\\\schema.yaml', report_file_path='d:\\\\iNeuron\\\\ML_projects\\\\Big_mart_sales\\\\sales\\\\artifact\\\\data_validation\\\\2022-11-19-21-28-06\\\\report.json', report_page_file_path='d:\\\\iNeuron\\\\ML_projects\\\\Big_mart_sales\\\\sales\\\\artifact\\\\data_validation\\\\2022-11-19-21-28-06\\\\report.html')]\n"
     ]
    }
   ],
   "source": [
    "data_valid_confi = confi.get_data_validation_config()"
   ]
  },
  {
   "cell_type": "code",
   "execution_count": 12,
   "metadata": {},
   "outputs": [],
   "source": [
    "from BigMartSales.components import DataValidation"
   ]
  },
  {
   "cell_type": "code",
   "execution_count": 13,
   "metadata": {},
   "outputs": [
    {
     "name": "stdout",
     "output_type": "stream",
     "text": [
      "[2022-11-19 21:28:10,548]^;INFO^;22^;data_validation.py^;__init__()^;>>>>>>>>>>>>>>>>>>>>>>>>>>>>>>>>>>>>>>>>>>>>>>>>>>>>>>>>>>>> DataValidation started <<<<<<<<<<<<<<<<<<<<<<<<<<<<<<<<<<<<<<<<<<<<<<<<<<<<<<<<<<<< \n",
      "\n",
      "\n",
      "[2022-11-19 21:28:10,551]^;INFO^;52^;data_validation.py^;is_train_test_exist()^;IS train and test File Exists? -> True\n",
      "[2022-11-19 21:28:10,567]^;INFO^;26^;common.py^;read_yaml()^;yaml file: d:\\iNeuron\\ML_projects\\Big_mart_sales\\configs\\schema.yaml loaded successfully\n",
      "[2022-11-19 21:28:10,640]^;INFO^;75^;data_validation.py^;validation_dataset_schema()^;Data Validation done and statys : {Validations_status}\n",
      "[2022-11-19 21:28:12,536]^;INFO^;146^;data_validation.py^;initiate_data_validation()^;Data validation artifact : DataIngestionArtifac(schema_file_path='d:\\\\iNeuron\\\\ML_projects\\\\Big_mart_sales\\\\configs\\\\schema.yaml', report_file_path='d:\\\\iNeuron\\\\ML_projects\\\\Big_mart_sales\\\\sales\\\\artifact\\\\data_validation\\\\2022-11-19-21-28-06\\\\report.json', report_page_file_path='d:\\\\iNeuron\\\\ML_projects\\\\Big_mart_sales\\\\sales\\\\artifact\\\\data_validation\\\\2022-11-19-21-28-06\\\\report.html', is_validated=True, message=' data Validation Performed Successfully')\n",
      "[2022-11-19 21:28:12,537]^;INFO^;152^;data_validation.py^;__del__()^;>>>>>>>>>>>>>>>>>>>>>>>>>>>>>>>>>>>>>>>>>>>>>>>>>>>>>>>>>>>> Data Validation completed <<<<<<<<<<<<<<<<<<<<<<<<<<<<<<<<<<<<<<<<<<<<<<<<<<<<<<<<<<<< \n",
      "\n",
      "\n"
     ]
    }
   ],
   "source": [
    "data_valid_arti = DataValidation(data_ing_artifact,data_valid_confi).initiate_data_validation()"
   ]
  },
  {
   "cell_type": "code",
   "execution_count": 14,
   "metadata": {},
   "outputs": [
    {
     "name": "stdout",
     "output_type": "stream",
     "text": [
      "[2022-11-19 21:28:12,589]^;INFO^;130^;__init__.py^;get_data_transformation_config()^;DataTransformationConfig: DataTransformationConfig(transformed_train_dir='d:\\\\iNeuron\\\\ML_projects\\\\Big_mart_sales\\\\sales\\\\artifact\\\\data_transformation\\\\2022-11-19-21-28-06\\\\transformed_data\\\\train', transformed_test_dir='d:\\\\iNeuron\\\\ML_projects\\\\Big_mart_sales\\\\sales\\\\artifact\\\\data_transformation\\\\2022-11-19-21-28-06\\\\transformed_data\\\\test', preprocessed_object_file_path='d:\\\\iNeuron\\\\ML_projects\\\\Big_mart_sales\\\\sales\\\\artifact\\\\data_transformation\\\\2022-11-19-21-28-06\\\\preprocessed\\\\preprocessed.pkl', transformed_train_file='d:\\\\iNeuron\\\\ML_projects\\\\Big_mart_sales\\\\sales\\\\artifact\\\\data_transformation\\\\2022-11-19-21-28-06\\\\preprocessed_files\\\\train_transformed', transformed_test_file='d:\\\\iNeuron\\\\ML_projects\\\\Big_mart_sales\\\\sales\\\\artifact\\\\data_transformation\\\\2022-11-19-21-28-06\\\\preprocessed_files\\\\test_transformed')\n"
     ]
    }
   ],
   "source": [
    "data_trans_confi = confi.get_data_transformation_config()"
   ]
  },
  {
   "cell_type": "code",
   "execution_count": 15,
   "metadata": {},
   "outputs": [],
   "source": [
    "from BigMartSales.components import DataTransformation"
   ]
  },
  {
   "cell_type": "code",
   "execution_count": 16,
   "metadata": {},
   "outputs": [
    {
     "name": "stdout",
     "output_type": "stream",
     "text": [
      "[2022-11-19 21:28:12,689]^;INFO^;24^;data_transformation.py^;__init__()^;>>>>>>>>>>>>>>>>>>>>>>>>>>>>>>>>>>>>>>>>>>>>>>>>>>>>>>>>>>>> Data Transformation Started <<<<<<<<<<<<<<<<<<<<<<<<<<<<<<<<<<<<<<<<<<<<<<<<<<<<<<<<<<<<\n",
      "[2022-11-19 21:28:12,704]^;INFO^;26^;common.py^;read_yaml()^;yaml file: d:\\iNeuron\\ML_projects\\Big_mart_sales\\configs\\schema.yaml loaded successfully\n",
      "[2022-11-19 21:28:12,707]^;INFO^;61^;data_transformation.py^;get_dats_transformer_object()^;Categorical columns : ['Item_Identifier', 'Item_Fat_Content', 'Outlet_Size', 'Outlet_Location_Type', 'Outlet_Type']\n",
      "[2022-11-19 21:28:12,708]^;INFO^;62^;data_transformation.py^;get_dats_transformer_object()^;Numerical columns : ['Item_Weight', 'Item_Visibility', 'Item_MRP', 'Outlet_age']\n",
      "[2022-11-19 21:28:12,710]^;INFO^;111^;data_transformation.py^;initiate_data_transformation()^;Preprocessing object received\n",
      "[2022-11-19 21:28:12,711]^;INFO^;113^;data_transformation.py^;initiate_data_transformation()^;obtaining Test and Train files and loading as pandas dataframe\n",
      "[2022-11-19 21:28:12,761]^;INFO^;26^;common.py^;read_yaml()^;yaml file: d:\\iNeuron\\ML_projects\\Big_mart_sales\\configs\\schema.yaml loaded successfully\n",
      "[2022-11-19 21:28:12,764]^;INFO^;127^;data_transformation.py^;initiate_data_transformation()^;Seperating input features and target feature from test and train\n",
      "[2022-11-19 21:28:12,812]^;INFO^;176^;data_transformation.py^;initiate_data_transformation()^;Starting applying preprocessing object on both files \n",
      "[2022-11-19 21:28:14,578]^;INFO^;184^;data_transformation.py^;initiate_data_transformation()^;To check operations performed correctly or not will save this dataframe\n",
      "[2022-11-19 21:28:14,857]^;INFO^;233^;data_transformation.py^;initiate_data_transformation()^;Saving transformed training and testing array.\n",
      "[2022-11-19 21:28:14,868]^;INFO^;240^;data_transformation.py^;initiate_data_transformation()^;Saving preprocessing object.\n",
      "[2022-11-19 21:28:14,877]^;INFO^;254^;data_transformation.py^;initiate_data_transformation()^;Data Transformation artifact : DataTransformationArtifact(is_transformed=True, message='Data Transformation Successful', transformed_train_file_path=WindowsPath('d:/iNeuron/ML_projects/Big_mart_sales/sales/artifact/data_transformation/2022-11-19-21-28-06/transformed_data/train/data.npz'), transformed_test_file_path=WindowsPath('d:/iNeuron/ML_projects/Big_mart_sales/sales/artifact/data_transformation/2022-11-19-21-28-06/transformed_data/test/data.npz'), preprocessed_object_file_path=WindowsPath('d:/iNeuron/ML_projects/Big_mart_sales/sales/artifact/data_transformation/2022-11-19-21-28-06/preprocessed/preprocessed.pkl'), transformed_train_arr_df_sorce='d:\\\\iNeuron\\\\ML_projects\\\\Big_mart_sales\\\\sales\\\\artifact\\\\data_transformation\\\\2022-11-19-21-28-06\\\\preprocessed_files\\\\train_transformed\\\\train_array_df.csv', transformed_test_arr_df_source='d:\\\\iNeuron\\\\ML_projects\\\\Big_mart_sales\\\\sales\\\\artifact\\\\data_transformation\\\\2022-11-19-21-28-06\\\\preprocessed_files\\\\test_transformed\\\\test_arry_df.csv')\n",
      "[2022-11-19 21:28:14,879]^;INFO^;262^;data_transformation.py^;__del__()^;>>>>>>>>>>>>>>>>>>>>>>>>>>>>>>>>>>>>>>>>>>>>>>>>>>>>>>>>>>>> Data Transformation completed <<<<<<<<<<<<<<<<<<<<<<<<<<<<<<<<<<<<<<<<<<<<<<<<<<<<<<<<<<<<\n"
     ]
    }
   ],
   "source": [
    "data_trans_artifact = DataTransformation(data_validation_artifact=data_valid_arti,\n",
    "                                        data_ingestion_artifact=data_ing_artifact,\n",
    "                                        data_transformation_config=data_trans_confi).initiate_data_transformation()"
   ]
  },
  {
   "cell_type": "code",
   "execution_count": 17,
   "metadata": {},
   "outputs": [
    {
     "name": "stdout",
     "output_type": "stream",
     "text": [
      "[2022-11-19 21:28:14,912]^;INFO^;155^;__init__.py^;get_model_trainer_config()^;Model trainer config: ModelTrainerConfig(trained_model_file_path='d:\\\\iNeuron\\\\ML_projects\\\\Big_mart_sales\\\\sales\\\\artifact\\\\model_trainer\\\\2022-11-19-21-28-06\\\\trained_model\\\\model.pkl', base_accuracy=0.6)\n"
     ]
    }
   ],
   "source": [
    "model_tra_confi = confi.get_model_trainer_config()"
   ]
  },
  {
   "cell_type": "code",
   "execution_count": 18,
   "metadata": {},
   "outputs": [],
   "source": [
    "from BigMartSales.components import ModelTrainer"
   ]
  },
  {
   "cell_type": "code",
   "execution_count": 19,
   "metadata": {},
   "outputs": [
    {
     "name": "stdout",
     "output_type": "stream",
     "text": [
      "[2022-11-19 21:28:14,999]^;INFO^;45^;model_trainer.py^;__init__()^;>>>>>>>>>>>>>>>>>>>>>>>>>>>>>>>>>>>>>>>>>>>>>>>>>>>>>>>>>>>>Model trainer log started.<<<<<<<<<<<<<<<<<<<<<<<<<<<<<<<<<<<<<<<<<<<<<<<<<<<<<<<<<<<< \n",
      "[2022-11-19 21:28:15,001]^;INFO^;88^;model_trainer.py^;initiate_model_trainer()^;Loading transformed training dataset\n",
      "[2022-11-19 21:28:15,004]^;INFO^;92^;model_trainer.py^;initiate_model_trainer()^;Loading transformed testing dataset\n",
      "[2022-11-19 21:28:15,008]^;INFO^;96^;model_trainer.py^;initiate_model_trainer()^;Splitting training and testing input and target feature\n",
      "[2022-11-19 21:28:15,009]^;INFO^;100^;model_trainer.py^;initiate_model_trainer()^;Expected accuracy: 0.6\n",
      "[2022-11-19 21:31:08,355]^;INFO^;107^;model_trainer.py^;initiate_model_trainer()^;best Model is RF Model  with parameters RandomForestRegressor(criterion='absolute_error', max_depth=6, max_features=0.7,\n",
      "                      max_samples=0.7, n_estimators=95) \n",
      "[2022-11-19 21:31:08,356]^;INFO^;111^;model_trainer.py^;initiate_model_trainer()^;Best model found on training dataset: RandomForestRegressor(criterion='absolute_error', max_depth=6, max_features=0.7,\n",
      "                      max_samples=0.7, n_estimators=95)\n",
      "[2022-11-19 21:31:25,400]^;INFO^;117^;model_trainer.py^;initiate_model_trainer()^;Model Accuracy : 0.6159412381586797\n",
      "[2022-11-19 21:31:25,402]^;INFO^;52^;model_factory.py^;evaluate_regression_model()^;>>>>>>>>>>>>>>>>>>>>>>>>>>>>>>>>>>>>>>>>>>>>>>>>>>>>>>>>>>>>Started evaluating model: [RandomForestRegressor] <<<<<<<<<<<<<<<<<<<<<<<<<<<<<<<<<<<<<<<<<<<<<<<<<<<<<<<<<<<<\n",
      "[2022-11-19 21:31:25,455]^;INFO^;71^;model_factory.py^;evaluate_regression_model()^;>>>>>>>>>>>>>>>>>>>>>>>>>>>>>>>>>>>>>>>>>>>>>>>>>>>>>>>>>>>> Score <<<<<<<<<<<<<<<<<<<<<<<<<<<<<<<<<<<<<<<<<<<<<<<<<<<<<<<<<<<<\n",
      "[2022-11-19 21:31:25,455]^;INFO^;72^;model_factory.py^;evaluate_regression_model()^;Train Score\t\t Test Score\t\t Average Score\n",
      "[2022-11-19 21:31:25,457]^;INFO^;73^;model_factory.py^;evaluate_regression_model()^;0.6129395840648273\t\t 0.6159412381586797\t\t0.614436745204069\n",
      "[2022-11-19 21:31:25,457]^;INFO^;75^;model_factory.py^;evaluate_regression_model()^;>>>>>>>>>>>>>>>>>>>>>>>>>>>>>>>>>>>>>>>>>>>>>>>>>>>>>>>>>>>> Loss <<<<<<<<<<<<<<<<<<<<<<<<<<<<<<<<<<<<<<<<<<<<<<<<<<<<<<<<<<<<\n",
      "[2022-11-19 21:31:25,458]^;INFO^;76^;model_factory.py^;evaluate_regression_model()^;Diff test train accuracy: [0.003001654093852446].\n",
      "[2022-11-19 21:31:25,458]^;INFO^;77^;model_factory.py^;evaluate_regression_model()^;Train root mean squared error: [1070.0206328212514].\n",
      "[2022-11-19 21:31:25,459]^;INFO^;78^;model_factory.py^;evaluate_regression_model()^;Test root mean squared error: [1021.6947775664653].\n",
      "[2022-11-19 21:31:25,460]^;INFO^;94^;model_factory.py^;evaluate_regression_model()^;Acceptable model found MetricInfoArtifact(model_name=\"RandomForestRegressor(criterion='absolute_error', max_depth=6, max_features=0.7,\\n                      max_samples=0.7, n_estimators=95)\", model_object=RandomForestRegressor(criterion='absolute_error', max_depth=6, max_features=0.7,\n",
      "                      max_samples=0.7, n_estimators=95), train_rmse=1070.0206328212514, test_rmse=1021.6947775664653, train_accuracy=0.6129395840648273, test_accuracy=0.6159412381586797, model_accuracy=0.614436745204069, index_number=0). \n",
      "[2022-11-19 21:31:25,461]^;INFO^;128^;model_trainer.py^;initiate_model_trainer()^;Saving model at path: d:\\iNeuron\\ML_projects\\Big_mart_sales\\sales\\artifact\\model_trainer\\2022-11-19-21-28-06\\trained_model\\model.pkl\n",
      "[2022-11-19 21:31:25,511]^;INFO^;142^;model_trainer.py^;initiate_model_trainer()^;Model Trainer Artifact: ModelTrainerArtifact(is_trained=True, message='Model Trained successfully', trained_model_file_path=WindowsPath('d:/iNeuron/ML_projects/Big_mart_sales/sales/artifact/model_trainer/2022-11-19-21-28-06/trained_model/model.pkl'), train_rmse=1070.0206328212514, test_rmse=1021.6947775664653, train_accuracy=0.6129395840648273, test_accuracy=0.6159412381586797, model_accuracy=0.614436745204069)\n",
      "[2022-11-19 21:31:25,512]^;INFO^;148^;model_trainer.py^;__del__()^;>>>>>>>>>>>>>>>>>>>>>>>>>>>>>>>>>>>>>>>>>>>>>>>>>>>>>>>>>>>>Model trainer log completed.<<<<<<<<<<<<<<<<<<<<<<<<<<<<<<<<<<<<<<<<<<<<<<<<<<<<<<<<<<<< \n"
     ]
    }
   ],
   "source": [
    "model_tra_arti = ModelTrainer(model_tra_confi,data_trans_artifact).initiate_model_trainer()"
   ]
  },
  {
   "cell_type": "code",
   "execution_count": 20,
   "metadata": {},
   "outputs": [
    {
     "name": "stdout",
     "output_type": "stream",
     "text": [
      "[2022-11-19 21:31:25,551]^;INFO^;172^;__init__.py^;get_model_evaluation_config()^;Model Evaluation Config: ModelEvaluationConfig(model_evaluation_file_path='d:\\\\iNeuron\\\\ML_projects\\\\Big_mart_sales\\\\sales\\\\artifact\\\\model_evaluation\\\\model_evaluation.yaml', time_stamp='2022-11-19-21-28-06').\n"
     ]
    }
   ],
   "source": [
    "model_eval_confi = confi.get_model_evaluation_config()"
   ]
  },
  {
   "cell_type": "code",
   "execution_count": 21,
   "metadata": {},
   "outputs": [],
   "source": [
    "from BigMartSales.components import ModelEvaluation"
   ]
  },
  {
   "cell_type": "code",
   "execution_count": 23,
   "metadata": {},
   "outputs": [
    {
     "name": "stdout",
     "output_type": "stream",
     "text": [
      "[2022-11-19 21:43:21,503]^;INFO^;21^;model_evaluation.py^;__init__()^;>>>>>>>>>>>>>>>>>>>>>>>>>>>>>>>>>>>>>>>>>>>>>>>>>>>>>>>>>>>>Model Evaluation log started.<<<<<<<<<<<<<<<<<<<<<<<<<<<<<<<<<<<<<<<<<<<<<<<<<<<<<<<<<<<< \n",
      "[2022-11-19 21:43:21,516]^;INFO^;26^;common.py^;read_yaml()^;yaml file: d:\\iNeuron\\ML_projects\\Big_mart_sales\\configs\\schema.yaml loaded successfully\n",
      "[2022-11-19 21:43:21,547]^;INFO^;26^;common.py^;read_yaml()^;yaml file: d:\\iNeuron\\ML_projects\\Big_mart_sales\\configs\\schema.yaml loaded successfully\n",
      "[2022-11-19 21:43:21,565]^;INFO^;26^;common.py^;read_yaml()^;yaml file: d:\\iNeuron\\ML_projects\\Big_mart_sales\\configs\\schema.yaml loaded successfully\n",
      "[2022-11-19 21:43:21,595]^;INFO^;189^;model_evaluation.py^;initiate_model_evaluation()^;Converting target column into numpy array.\n",
      "[2022-11-19 21:43:21,596]^;INFO^;192^;model_evaluation.py^;initiate_model_evaluation()^;Conversion completed target column into numpy array.\n",
      "[2022-11-19 21:43:21,598]^;INFO^;26^;common.py^;read_yaml()^;yaml file: d:\\iNeuron\\ML_projects\\Big_mart_sales\\sales\\artifact\\model_evaluation\\model_evaluation.yaml loaded successfully\n",
      "[2022-11-19 21:43:21,599]^;INFO^;198^;model_evaluation.py^;initiate_model_evaluation()^;Not found any existing model. Hence accepting trained model\n",
      "[2022-11-19 21:43:21,602]^;INFO^;26^;common.py^;read_yaml()^;yaml file: d:\\iNeuron\\ML_projects\\Big_mart_sales\\sales\\artifact\\model_evaluation\\model_evaluation.yaml loaded successfully\n",
      "[2022-11-19 21:43:21,603]^;INFO^;61^;model_evaluation.py^;update_evaluation_report()^;Previous eval result: {'model_path': 'D:\\\\iNeuron\\\\ML_projects\\\\Big_mart_sales\\\\sales\\\\artifact\\\\model_trainer\\\\2022-11-19-21-28-06\\\\trained_model\\\\model.pkl', 'history': 'D:\\\\iNeuron\\\\ML_projects\\\\Big_mart_sales\\\\sales\\\\artifact\\\\model_trainer\\\\2022-11-19-21-28-06\\\\trained_model\\\\model.pkl'}\n",
      "[2022-11-19 21:43:21,604]^;INFO^;77^;model_evaluation.py^;update_evaluation_report()^;Updated eval result:{'model_path': 'D:\\\\iNeuron\\\\ML_projects\\\\Big_mart_sales\\\\sales\\\\artifact\\\\model_trainer\\\\2022-11-19-21-28-06\\\\trained_model\\\\model.pkl', 'history': 'D:\\\\iNeuron\\\\ML_projects\\\\Big_mart_sales\\\\sales\\\\artifact\\\\model_trainer\\\\2022-11-19-21-28-06\\\\trained_model\\\\model.pkl', 'best_model': {'model_path': WindowsPath('d:/iNeuron/ML_projects/Big_mart_sales/sales/artifact/model_trainer/2022-11-19-21-28-06/trained_model/model.pkl')}}\n",
      "[2022-11-19 21:43:21,612]^;INFO^;202^;model_evaluation.py^;initiate_model_evaluation()^;Model accepted. Model eval artifact ModelEvaluationArtifact(is_model_accepted=True, evaluated_model_path=WindowsPath('d:/iNeuron/ML_projects/Big_mart_sales/sales/artifact/model_trainer/2022-11-19-21-28-06/trained_model/model.pkl')) created\n",
      "[2022-11-19 21:43:21,614]^;INFO^;237^;model_evaluation.py^;__del__()^;====================Model Evaluation log completed.==================== \n"
     ]
    }
   ],
   "source": [
    "model_eval_arti = ModelEvaluation(model_eval_confi,data_ing_artifact,data_valid_arti,model_tra_arti,data_trans_artifact).initiate_model_evaluation()"
   ]
  },
  {
   "cell_type": "code",
   "execution_count": 24,
   "metadata": {},
   "outputs": [
    {
     "name": "stdout",
     "output_type": "stream",
     "text": [
      "[2022-11-19 21:47:05,135]^;INFO^;185^;__init__.py^;get_model_pusher_config()^;Model pusher config ModelPusherConfig(export_dir_path='d:\\\\iNeuron\\\\ML_projects\\\\Big_mart_sales\\\\saved_models\\\\20221119214705')\n"
     ]
    }
   ],
   "source": [
    "model_pusher_confi = confi.get_model_pusher_config()"
   ]
  },
  {
   "cell_type": "code",
   "execution_count": 25,
   "metadata": {},
   "outputs": [],
   "source": [
    "from BigMartSales.components import ModelPusher"
   ]
  },
  {
   "cell_type": "code",
   "execution_count": 26,
   "metadata": {},
   "outputs": [
    {
     "name": "stdout",
     "output_type": "stream",
     "text": [
      "[2022-11-19 21:48:24,083]^;INFO^;14^;model_pusher.py^;__init__()^;>>>>>>>>>>>>>>>>>>>>>>>>>>>>>>>>>>>>>>>>>>>>>>>>>>>>>>>>>>>>Model Pusher log started.<<<<<<<<<<<<<<<<<<<<<<<<<<<<<<<<<<<<<<<<<<<<<<<<<<<<<<<<<<<< \n",
      "[2022-11-19 21:48:24,085]^;INFO^;27^;model_pusher.py^;export_model()^;Exporting model file: [d:\\iNeuron\\ML_projects\\Big_mart_sales\\saved_models\\20221119214705\\model.pkl]\n",
      "[2022-11-19 21:48:24,089]^;INFO^;32^;model_pusher.py^;export_model()^;Trained model: d:\\iNeuron\\ML_projects\\Big_mart_sales\\sales\\artifact\\model_trainer\\2022-11-19-21-28-06\\trained_model\\model.pkl is copied in export dir:[d:\\iNeuron\\ML_projects\\Big_mart_sales\\saved_models\\20221119214705\\model.pkl]\n",
      "[2022-11-19 21:48:24,090]^;INFO^;38^;model_pusher.py^;export_model()^;Model pusher artifact: [ModelPusherArtifact(is_model_pusher=True, export_model_file_path='d:\\\\iNeuron\\\\ML_projects\\\\Big_mart_sales\\\\saved_models\\\\20221119214705\\\\model.pkl')]\n",
      "[2022-11-19 21:48:24,091]^;INFO^;50^;model_pusher.py^;__del__()^;>>>>>>>>>>>>>>>>>>>>>>>>>>>>>>>>>>>>>>>>Model Pusher log completed.<<<<<<<<<<<<<<<<<<<<<<<<<<<<<<<<<<<<<<<< \n"
     ]
    }
   ],
   "source": [
    "model_pusher_art = ModelPusher(model_pusher_confi,model_eval_arti).initiate_model_pusher()"
   ]
  },
  {
   "cell_type": "code",
   "execution_count": null,
   "metadata": {},
   "outputs": [],
   "source": []
  }
 ],
 "metadata": {
  "kernelspec": {
   "display_name": "Python 3.8.15",
   "language": "python",
   "name": "python3"
  },
  "language_info": {
   "codemirror_mode": {
    "name": "ipython",
    "version": 3
   },
   "file_extension": ".py",
   "mimetype": "text/x-python",
   "name": "python",
   "nbconvert_exporter": "python",
   "pygments_lexer": "ipython3",
   "version": "3.8.15"
  },
  "orig_nbformat": 4,
  "vscode": {
   "interpreter": {
    "hash": "8a86b7a534e022be7464d99244c6774955de2ec996bf32cd5efb4d6b459cb4f1"
   }
  }
 },
 "nbformat": 4,
 "nbformat_minor": 2
}
