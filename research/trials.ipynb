{
 "cells": [
  {
   "cell_type": "code",
   "execution_count": 1,
   "metadata": {},
   "outputs": [
    {
     "data": {
      "text/plain": [
       "'d:\\\\iNeuron\\\\ML_projects\\\\Big_mart_sales\\\\research'"
      ]
     },
     "execution_count": 1,
     "metadata": {},
     "output_type": "execute_result"
    }
   ],
   "source": [
    "import os\n",
    "os.getcwd()"
   ]
  },
  {
   "cell_type": "code",
   "execution_count": 2,
   "metadata": {},
   "outputs": [
    {
     "data": {
      "text/plain": [
       "'d:\\\\iNeuron\\\\ML_projects\\\\Big_mart_sales'"
      ]
     },
     "execution_count": 2,
     "metadata": {},
     "output_type": "execute_result"
    }
   ],
   "source": [
    "os.chdir('../')\n",
    "os.getcwd()"
   ]
  },
  {
   "cell_type": "code",
   "execution_count": 3,
   "metadata": {},
   "outputs": [],
   "source": [
    "import os,sys\n",
    "from BigMartSales import logger\n",
    "from BigMartSales.constants import *\n",
    "from BigMartSales.entity import DataIngestionConfig\n",
    "from BigMartSales.entity import DataIngestionArtifact\n",
    "import requests\n",
    "import zipfile\n",
    "import shutil\n",
    "import pandas as pd \n",
    "from pathlib import Path\n",
    "from sklearn.model_selection import train_test_split"
   ]
  },
  {
   "cell_type": "code",
   "execution_count": 4,
   "metadata": {},
   "outputs": [],
   "source": [
    "current_time = CURRENT_TIME_STAMP\n",
    "config_file = Path(r'configs/config.yaml')"
   ]
  },
  {
   "cell_type": "code",
   "execution_count": 5,
   "metadata": {},
   "outputs": [],
   "source": [
    "from BigMartSales.config import Configuration"
   ]
  },
  {
   "cell_type": "code",
   "execution_count": 6,
   "metadata": {},
   "outputs": [
    {
     "name": "stdout",
     "output_type": "stream",
     "text": [
      "[2022-11-19 08:50:18,526]^;INFO^;26^;common.py^;read_yaml()^;yaml file: configs\\config.yaml loaded successfully\n",
      "[2022-11-19 08:50:18,527]^;INFO^;168^;__init__.py^;get_training_pipeline_config()^;Training pipleine config: TrainingPipelineConfig(artifact_dir='d:\\\\iNeuron\\\\ML_projects\\\\Big_mart_sales\\\\sales\\\\artifact')\n"
     ]
    }
   ],
   "source": [
    "confi = Configuration(config_file_path=config_file,current_time_stamp=current_time)"
   ]
  },
  {
   "cell_type": "code",
   "execution_count": 7,
   "metadata": {},
   "outputs": [
    {
     "name": "stdout",
     "output_type": "stream",
     "text": [
      "[2022-11-19 08:50:18,571]^;INFO^;55^;__init__.py^;get_data_ingestion_config()^;DataIngestionConfig: DataIngestionConfig(dataset_download_url='https://github.com/ajaharleo/kaggle_datasets/blob/main/Big_mart_sales.zip?raw=true', zip_download_dir='d:\\\\iNeuron\\\\ML_projects\\\\Big_mart_sales\\\\sales\\\\artifact\\\\data_ingestion\\\\2022-11-19-08-50-17\\\\zip_data', raw_data_dir='d:\\\\iNeuron\\\\ML_projects\\\\Big_mart_sales\\\\sales\\\\artifact\\\\data_ingestion\\\\2022-11-19-08-50-17\\\\raw_data', ingested_train_dir='d:\\\\iNeuron\\\\ML_projects\\\\Big_mart_sales\\\\sales\\\\artifact\\\\data_ingestion\\\\2022-11-19-08-50-17\\\\ingested_data\\\\train', ingested_test_dir='d:\\\\iNeuron\\\\ML_projects\\\\Big_mart_sales\\\\sales\\\\artifact\\\\data_ingestion\\\\2022-11-19-08-50-17\\\\ingested_data\\\\test', ingested_dir='d:\\\\iNeuron\\\\ML_projects\\\\Big_mart_sales\\\\sales\\\\artifact\\\\data_ingestion\\\\2022-11-19-08-50-17\\\\ingested_data')\n"
     ]
    }
   ],
   "source": [
    "data_inge_confi = confi.get_data_ingestion_config()"
   ]
  },
  {
   "cell_type": "code",
   "execution_count": 8,
   "metadata": {},
   "outputs": [],
   "source": [
    "from BigMartSales.components import DataIngestion"
   ]
  },
  {
   "cell_type": "code",
   "execution_count": 9,
   "metadata": {},
   "outputs": [
    {
     "name": "stdout",
     "output_type": "stream",
     "text": [
      "[2022-11-19 08:50:19,259]^;INFO^;19^;data_ingestion.py^;__init__()^;>>>>>>>>>>>>>>>>>>>>>>>>>>>>>> Data Ingestion Started <<<<<<<<<<<<<<<<<<<<<<<<<<<<<<\n",
      "[2022-11-19 08:50:19,259]^;INFO^;33^;data_ingestion.py^;download_data()^;Downloading file from : https://github.com/ajaharleo/kaggle_datasets/blob/main/Big_mart_sales.zip?raw=true into : d:\\iNeuron\\ML_projects\\Big_mart_sales\\sales\\artifact\\data_ingestion\\2022-11-19-08-50-17\\zip_data \n",
      "[2022-11-19 08:50:20,401]^;INFO^;43^;data_ingestion.py^;download_data()^;File downloaded successfully  d:\\iNeuron\\ML_projects\\Big_mart_sales\\sales\\artifact\\data_ingestion\\2022-11-19-08-50-17\\zip_data \n",
      "[2022-11-19 08:50:20,402]^;INFO^;58^;data_ingestion.py^;extract_data()^;Extracting zip file d:\\iNeuron\\ML_projects\\Big_mart_sales\\sales\\artifact\\data_ingestion\\2022-11-19-08-50-17\\zip_data into dir d:\\iNeuron\\ML_projects\\Big_mart_sales\\sales\\artifact\\data_ingestion\\2022-11-19-08-50-17\\raw_data \n",
      "None\n",
      "[2022-11-19 08:50:20,412]^;INFO^;68^;data_ingestion.py^;extract_data()^;>>>>>>>>>>>>>>>>>>>> Extraction completed <<<<<<<<<<<<<<<<<<<<\n",
      "[2022-11-19 08:50:20,413]^;INFO^;83^;data_ingestion.py^;split_data_as_train_test()^;Reading csv file: [d:\\iNeuron\\ML_projects\\Big_mart_sales\\sales\\artifact\\data_ingestion\\2022-11-19-08-50-17\\raw_data\\data.csv]\n",
      "[2022-11-19 08:50:20,431]^;INFO^;86^;data_ingestion.py^;split_data_as_train_test()^;Splitting data into train and test with test data ration = 0.2\n",
      "[2022-11-19 08:50:20,434]^;INFO^;97^;data_ingestion.py^;split_data_as_train_test()^;Exporting training datset to file: [d:\\iNeuron\\ML_projects\\Big_mart_sales\\sales\\artifact\\data_ingestion\\2022-11-19-08-50-17\\ingested_data\\train\\data.csv]\n",
      "[2022-11-19 08:50:20,476]^;INFO^;101^;data_ingestion.py^;split_data_as_train_test()^;Exporting test dataset to file: [d:\\iNeuron\\ML_projects\\Big_mart_sales\\sales\\artifact\\data_ingestion\\2022-11-19-08-50-17\\ingested_data\\test\\data.csv]\n",
      "[2022-11-19 08:50:20,488]^;INFO^;115^;data_ingestion.py^;split_data_as_train_test()^;data_ingestion_artifact : [DataIngestionArtifact(train_file_path='d:\\\\iNeuron\\\\ML_projects\\\\Big_mart_sales\\\\sales\\\\artifact\\\\data_ingestion\\\\2022-11-19-08-50-17\\\\ingested_data\\\\train\\\\data.csv', test_file_path='d:\\\\iNeuron\\\\ML_projects\\\\Big_mart_sales\\\\sales\\\\artifact\\\\data_ingestion\\\\2022-11-19-08-50-17\\\\ingested_data\\\\test\\\\data.csv', is_ingested=True, message='Data ingestion completed successfully.')]\n",
      "[2022-11-19 08:50:20,490]^;INFO^;136^;data_ingestion.py^;__del__()^;>>>>>>>>>>>>>>>>>>>>>>>>>>>>>>>>>>>>>>>> Data Ingestion completed <<<<<<<<<<<<<<<<<<<<<<<<<<<<<<<<<<<<<<<< \n",
      "\n",
      "\n"
     ]
    }
   ],
   "source": [
    "data_ing = DataIngestion(data_inge_confi).initiate_data_ingestion()"
   ]
  },
  {
   "cell_type": "code",
   "execution_count": 10,
   "metadata": {},
   "outputs": [],
   "source": [
    "data_ing_artifact = data_ing"
   ]
  },
  {
   "cell_type": "code",
   "execution_count": 11,
   "metadata": {},
   "outputs": [
    {
     "name": "stdout",
     "output_type": "stream",
     "text": [
      "[2022-11-19 08:50:20,558]^;INFO^;89^;__init__.py^;get_data_validation_config()^;DataValidationConfig: [DataValidationConfig(schema_file_path='d:\\\\iNeuron\\\\ML_projects\\\\Big_mart_sales\\\\configs\\\\schema.yaml', report_file_path='d:\\\\iNeuron\\\\ML_projects\\\\Big_mart_sales\\\\sales\\\\artifact\\\\data_validation\\\\2022-11-19-08-50-17\\\\report.json', report_page_file_path='d:\\\\iNeuron\\\\ML_projects\\\\Big_mart_sales\\\\sales\\\\artifact\\\\data_validation\\\\2022-11-19-08-50-17\\\\report.html')]\n"
     ]
    }
   ],
   "source": [
    "data_valid_confi = confi.get_data_validation_config()"
   ]
  },
  {
   "cell_type": "code",
   "execution_count": 12,
   "metadata": {},
   "outputs": [],
   "source": [
    "from BigMartSales.components import DataValidation"
   ]
  },
  {
   "cell_type": "code",
   "execution_count": 13,
   "metadata": {},
   "outputs": [
    {
     "name": "stdout",
     "output_type": "stream",
     "text": [
      "[2022-11-19 08:50:20,628]^;INFO^;22^;data_validation.py^;__init__()^;>>>>>>>>>>>>>>>>>>>>>>>>>>>>>>>>>>>>>>>>>>>>>>>>>>>>>>>>>>>> DataValidation started <<<<<<<<<<<<<<<<<<<<<<<<<<<<<<<<<<<<<<<<<<<<<<<<<<<<<<<<<<<< \n",
      "\n",
      "\n",
      "[2022-11-19 08:50:20,630]^;INFO^;52^;data_validation.py^;is_train_test_exist()^;IS train and test File Exists? -> True\n",
      "[2022-11-19 08:50:20,640]^;INFO^;26^;common.py^;read_yaml()^;yaml file: d:\\iNeuron\\ML_projects\\Big_mart_sales\\configs\\schema.yaml loaded successfully\n",
      "[2022-11-19 08:50:20,673]^;INFO^;75^;data_validation.py^;validation_dataset_schema()^;Data Validation done and statys : {Validations_status}\n",
      "[2022-11-19 08:50:21,674]^;INFO^;146^;data_validation.py^;initiate_data_validation()^;Data validation artifact : DataIngestionArtifac(schema_file_path='d:\\\\iNeuron\\\\ML_projects\\\\Big_mart_sales\\\\configs\\\\schema.yaml', report_file_path='d:\\\\iNeuron\\\\ML_projects\\\\Big_mart_sales\\\\sales\\\\artifact\\\\data_validation\\\\2022-11-19-08-50-17\\\\report.json', report_page_file_path='d:\\\\iNeuron\\\\ML_projects\\\\Big_mart_sales\\\\sales\\\\artifact\\\\data_validation\\\\2022-11-19-08-50-17\\\\report.html', is_validated=True, message=' data Validation Performed Successfully')\n",
      "[2022-11-19 08:50:21,675]^;INFO^;152^;data_validation.py^;__del__()^;>>>>>>>>>>>>>>>>>>>>>>>>>>>>>>>>>>>>>>>>>>>>>>>>>>>>>>>>>>>> Data Validation completed <<<<<<<<<<<<<<<<<<<<<<<<<<<<<<<<<<<<<<<<<<<<<<<<<<<<<<<<<<<< \n",
      "\n",
      "\n"
     ]
    }
   ],
   "source": [
    "data_valid_arti = DataValidation(data_ing_artifact,data_valid_confi).initiate_data_validation()"
   ]
  },
  {
   "cell_type": "code",
   "execution_count": 14,
   "metadata": {},
   "outputs": [
    {
     "name": "stdout",
     "output_type": "stream",
     "text": [
      "[2022-11-19 08:50:21,707]^;INFO^;130^;__init__.py^;get_data_transformation_config()^;DataTransformationConfig: DataTransformationConfig(transformed_train_dir='d:\\\\iNeuron\\\\ML_projects\\\\Big_mart_sales\\\\sales\\\\artifact\\\\data_transformation\\\\2022-11-19-08-50-17\\\\transformed_data\\\\train', transformed_test_dir='d:\\\\iNeuron\\\\ML_projects\\\\Big_mart_sales\\\\sales\\\\artifact\\\\data_transformation\\\\2022-11-19-08-50-17\\\\transformed_data\\\\test', preprocessed_object_file_path='d:\\\\iNeuron\\\\ML_projects\\\\Big_mart_sales\\\\sales\\\\artifact\\\\data_transformation\\\\2022-11-19-08-50-17\\\\preprocessed\\\\preprocessed.pkl', transformed_train_file='d:\\\\iNeuron\\\\ML_projects\\\\Big_mart_sales\\\\sales\\\\artifact\\\\data_transformation\\\\2022-11-19-08-50-17\\\\preprocessed_files\\\\train_transformed', transformed_test_file='d:\\\\iNeuron\\\\ML_projects\\\\Big_mart_sales\\\\sales\\\\artifact\\\\data_transformation\\\\2022-11-19-08-50-17\\\\preprocessed_files\\\\test_transformed')\n"
     ]
    }
   ],
   "source": [
    "data_trans_confi = confi.get_data_transformation_config()"
   ]
  },
  {
   "cell_type": "code",
   "execution_count": 15,
   "metadata": {},
   "outputs": [],
   "source": [
    "from BigMartSales.components import DataTransformation"
   ]
  },
  {
   "cell_type": "code",
   "execution_count": 16,
   "metadata": {},
   "outputs": [
    {
     "name": "stdout",
     "output_type": "stream",
     "text": [
      "[2022-11-19 08:50:21,822]^;INFO^;24^;data_transformation.py^;__init__()^;>>>>>>>>>>>>>>>>>>>>>>>>>>>>>>>>>>>>>>>>>>>>>>>>>>>>>>>>>>>> Data Transformation Started <<<<<<<<<<<<<<<<<<<<<<<<<<<<<<<<<<<<<<<<<<<<<<<<<<<<<<<<<<<<\n",
      "[2022-11-19 08:50:21,832]^;INFO^;26^;common.py^;read_yaml()^;yaml file: d:\\iNeuron\\ML_projects\\Big_mart_sales\\configs\\schema.yaml loaded successfully\n",
      "[2022-11-19 08:50:21,833]^;INFO^;61^;data_transformation.py^;get_dats_transformer_object()^;Categorical columns : ['Item_Identifier', 'Item_Fat_Content', 'Outlet_Size', 'Outlet_Location_Type', 'Outlet_Type']\n",
      "[2022-11-19 08:50:21,834]^;INFO^;62^;data_transformation.py^;get_dats_transformer_object()^;Numerical columns : ['Item_Weight', 'Item_Visibility', 'Item_MRP', 'Outlet_age']\n",
      "[2022-11-19 08:50:21,836]^;INFO^;111^;data_transformation.py^;initiate_data_transformation()^;Preprocessing object received\n",
      "[2022-11-19 08:50:21,837]^;INFO^;113^;data_transformation.py^;initiate_data_transformation()^;obtaining Test and Train files and loading as pandas dataframe\n",
      "[2022-11-19 08:50:21,863]^;INFO^;26^;common.py^;read_yaml()^;yaml file: d:\\iNeuron\\ML_projects\\Big_mart_sales\\configs\\schema.yaml loaded successfully\n",
      "[2022-11-19 08:50:21,864]^;INFO^;127^;data_transformation.py^;initiate_data_transformation()^;Seperating input features and target feature from test and train\n",
      "[2022-11-19 08:50:21,888]^;INFO^;176^;data_transformation.py^;initiate_data_transformation()^;Starting applying preprocessing object on both files \n",
      "[2022-11-19 08:50:23,736]^;INFO^;184^;data_transformation.py^;initiate_data_transformation()^;To check operations performed correctly or not will save this dataframe\n",
      "[2022-11-19 08:50:24,050]^;INFO^;233^;data_transformation.py^;initiate_data_transformation()^;Saving transformed training and testing array.\n",
      "[2022-11-19 08:50:24,062]^;INFO^;240^;data_transformation.py^;initiate_data_transformation()^;Saving preprocessing object.\n",
      "[2022-11-19 08:50:24,071]^;INFO^;254^;data_transformation.py^;initiate_data_transformation()^;Data Transformation artifact : DataTransformationArtifact(is_transformed=True, message='Data Transformation Successful', transformed_train_file_path=WindowsPath('d:/iNeuron/ML_projects/Big_mart_sales/sales/artifact/data_transformation/2022-11-19-08-50-17/transformed_data/train/data.npz'), transformed_test_file_path=WindowsPath('d:/iNeuron/ML_projects/Big_mart_sales/sales/artifact/data_transformation/2022-11-19-08-50-17/transformed_data/test/data.npz'), preprocessed_object_file_path=WindowsPath('d:/iNeuron/ML_projects/Big_mart_sales/sales/artifact/data_transformation/2022-11-19-08-50-17/preprocessed/preprocessed.pkl'), transformed_train_arr_df_sorce='d:\\\\iNeuron\\\\ML_projects\\\\Big_mart_sales\\\\sales\\\\artifact\\\\data_transformation\\\\2022-11-19-08-50-17\\\\preprocessed_files\\\\train_transformed\\\\train_array_df.csv', transformed_test_arr_df_source='d:\\\\iNeuron\\\\ML_projects\\\\Big_mart_sales\\\\sales\\\\artifact\\\\data_transformation\\\\2022-11-19-08-50-17\\\\preprocessed_files\\\\test_transformed\\\\test_arry_df.csv')\n",
      "[2022-11-19 08:50:24,074]^;INFO^;262^;data_transformation.py^;__del__()^;>>>>>>>>>>>>>>>>>>>>>>>>>>>>>>>>>>>>>>>>>>>>>>>>>>>>>>>>>>>> Data Transformation completed <<<<<<<<<<<<<<<<<<<<<<<<<<<<<<<<<<<<<<<<<<<<<<<<<<<<<<<<<<<<\n"
     ]
    }
   ],
   "source": [
    "data_trans_artifact = DataTransformation(data_validation_artifact=data_valid_arti,\n",
    "                                        data_ingestion_artifact=data_ing_artifact,\n",
    "                                        data_transformation_config=data_trans_confi).initiate_data_transformation()"
   ]
  },
  {
   "cell_type": "code",
   "execution_count": 17,
   "metadata": {},
   "outputs": [
    {
     "name": "stdout",
     "output_type": "stream",
     "text": [
      "[2022-11-19 08:50:24,129]^;INFO^;155^;__init__.py^;get_model_trainer_config()^;Model trainer config: ModelTrainerConfig(trained_model_file_path='d:\\\\iNeuron\\\\ML_projects\\\\Big_mart_sales\\\\sales\\\\artifact\\\\model_trainer\\\\2022-11-19-08-50-17\\\\trained_model\\\\model.pkl', base_accuracy=0.6)\n"
     ]
    }
   ],
   "source": [
    "model_tra_confi = confi.get_model_trainer_config()"
   ]
  },
  {
   "cell_type": "code",
   "execution_count": 18,
   "metadata": {},
   "outputs": [],
   "source": [
    "from BigMartSales.components import ModelTrainer"
   ]
  },
  {
   "cell_type": "code",
   "execution_count": 20,
   "metadata": {},
   "outputs": [
    {
     "name": "stdout",
     "output_type": "stream",
     "text": [
      "[2022-11-19 08:51:33,052]^;INFO^;45^;model_trainer.py^;__init__()^;>>>>>>>>>>>>>>>>>>>>>>>>>>>>>>>>>>>>>>>>>>>>>>>>>>>>>>>>>>>>Model trainer log started.<<<<<<<<<<<<<<<<<<<<<<<<<<<<<<<<<<<<<<<<<<<<<<<<<<<<<<<<<<<< \n",
      "[2022-11-19 08:51:33,054]^;INFO^;88^;model_trainer.py^;initiate_model_trainer()^;Loading transformed training dataset\n",
      "[2022-11-19 08:51:33,057]^;INFO^;92^;model_trainer.py^;initiate_model_trainer()^;Loading transformed testing dataset\n",
      "[2022-11-19 08:51:33,059]^;INFO^;96^;model_trainer.py^;initiate_model_trainer()^;Splitting training and testing input and target feature\n",
      "[2022-11-19 08:51:33,060]^;INFO^;100^;model_trainer.py^;initiate_model_trainer()^;Expected accuracy: 0.6\n",
      "[2022-11-19 08:54:16,738]^;INFO^;107^;model_trainer.py^;initiate_model_trainer()^;best Model is RF Model  with parameters RandomForestRegressor(criterion='absolute_error', max_depth=6,\n",
      "                      max_features=0.76, max_samples=0.7, n_estimators=85) \n",
      "[2022-11-19 08:54:16,739]^;INFO^;111^;model_trainer.py^;initiate_model_trainer()^;Best model found on training dataset: RandomForestRegressor(criterion='absolute_error', max_depth=6,\n",
      "                      max_features=0.76, max_samples=0.7, n_estimators=85)\n",
      "[2022-11-19 08:54:31,234]^;INFO^;117^;model_trainer.py^;initiate_model_trainer()^;Model Accuracy : 0.6174131565962417\n",
      "[2022-11-19 08:54:31,235]^;INFO^;52^;model_factory.py^;evaluate_regression_model()^;>>>>>>>>>>>>>>>>>>>>>>>>>>>>>>>>>>>>>>>>>>>>>>>>>>>>>>>>>>>>Started evaluating model: [RandomForestRegressor] <<<<<<<<<<<<<<<<<<<<<<<<<<<<<<<<<<<<<<<<<<<<<<<<<<<<<<<<<<<<\n",
      "[2022-11-19 08:54:31,281]^;INFO^;71^;model_factory.py^;evaluate_regression_model()^;>>>>>>>>>>>>>>>>>>>>>>>>>>>>>>>>>>>>>>>>>>>>>>>>>>>>>>>>>>>> Score <<<<<<<<<<<<<<<<<<<<<<<<<<<<<<<<<<<<<<<<<<<<<<<<<<<<<<<<<<<<\n",
      "[2022-11-19 08:54:31,282]^;INFO^;72^;model_factory.py^;evaluate_regression_model()^;Train Score\t\t Test Score\t\t Average Score\n",
      "[2022-11-19 08:54:31,282]^;INFO^;73^;model_factory.py^;evaluate_regression_model()^;0.6126341377775281\t\t 0.6174131565962417\t\t0.6150143633890286\n",
      "[2022-11-19 08:54:31,283]^;INFO^;75^;model_factory.py^;evaluate_regression_model()^;>>>>>>>>>>>>>>>>>>>>>>>>>>>>>>>>>>>>>>>>>>>>>>>>>>>>>>>>>>>> Loss <<<<<<<<<<<<<<<<<<<<<<<<<<<<<<<<<<<<<<<<<<<<<<<<<<<<<<<<<<<<\n",
      "[2022-11-19 08:54:31,284]^;INFO^;76^;model_factory.py^;evaluate_regression_model()^;Diff test train accuracy: [0.004779018818713676].\n",
      "[2022-11-19 08:54:31,284]^;INFO^;77^;model_factory.py^;evaluate_regression_model()^;Train root mean squared error: [1070.4427495785985].\n",
      "[2022-11-19 08:54:31,285]^;INFO^;78^;model_factory.py^;evaluate_regression_model()^;Test root mean squared error: [1019.7350578717957].\n",
      "[2022-11-19 08:54:31,286]^;INFO^;94^;model_factory.py^;evaluate_regression_model()^;Acceptable model found MetricInfoArtifact(model_name=\"RandomForestRegressor(criterion='absolute_error', max_depth=6,\\n                      max_features=0.76, max_samples=0.7, n_estimators=85)\", model_object=RandomForestRegressor(criterion='absolute_error', max_depth=6,\n",
      "                      max_features=0.76, max_samples=0.7, n_estimators=85), train_rmse=1070.4427495785985, test_rmse=1019.7350578717957, train_accuracy=0.6126341377775281, test_accuracy=0.6174131565962417, model_accuracy=0.6150143633890286, index_number=0). \n",
      "[2022-11-19 08:54:31,286]^;INFO^;128^;model_trainer.py^;initiate_model_trainer()^;Saving model at path: d:\\iNeuron\\ML_projects\\Big_mart_sales\\sales\\artifact\\model_trainer\\2022-11-19-08-50-17\\trained_model\\model.pkl\n",
      "[2022-11-19 08:54:31,327]^;INFO^;142^;model_trainer.py^;initiate_model_trainer()^;Model Trainer Artifact: ModelTrainerArtifact(is_trained=True, message='Model Trained successfully', trained_model_file_path=WindowsPath('d:/iNeuron/ML_projects/Big_mart_sales/sales/artifact/model_trainer/2022-11-19-08-50-17/trained_model/model.pkl'), train_rmse=1070.4427495785985, test_rmse=1019.7350578717957, train_accuracy=0.6126341377775281, test_accuracy=0.6174131565962417, model_accuracy=0.6150143633890286)\n",
      "[2022-11-19 08:54:31,329]^;INFO^;148^;model_trainer.py^;__del__()^;>>>>>>>>>>>>>>>>>>>>>>>>>>>>>>>>>>>>>>>>>>>>>>>>>>>>>>>>>>>>Model trainer log completed.<<<<<<<<<<<<<<<<<<<<<<<<<<<<<<<<<<<<<<<<<<<<<<<<<<<<<<<<<<<< \n"
     ]
    }
   ],
   "source": [
    "model_tra_arti = ModelTrainer(model_tra_confi,data_trans_artifact).initiate_model_trainer()"
   ]
  },
  {
   "cell_type": "code",
   "execution_count": null,
   "metadata": {},
   "outputs": [],
   "source": []
  }
 ],
 "metadata": {
  "kernelspec": {
   "display_name": "Python 3.8.15",
   "language": "python",
   "name": "python3"
  },
  "language_info": {
   "codemirror_mode": {
    "name": "ipython",
    "version": 3
   },
   "file_extension": ".py",
   "mimetype": "text/x-python",
   "name": "python",
   "nbconvert_exporter": "python",
   "pygments_lexer": "ipython3",
   "version": "3.8.15"
  },
  "orig_nbformat": 4,
  "vscode": {
   "interpreter": {
    "hash": "8a86b7a534e022be7464d99244c6774955de2ec996bf32cd5efb4d6b459cb4f1"
   }
  }
 },
 "nbformat": 4,
 "nbformat_minor": 2
}
